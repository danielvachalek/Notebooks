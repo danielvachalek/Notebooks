{
  "nbformat": 4,
  "nbformat_minor": 0,
  "metadata": {
    "colab": {
      "name": "Product Usage Model Insights.ipynb",
      "provenance": [],
      "collapsed_sections": [
        "95Nc9aFeXBFs"
      ],
      "toc_visible": true
    },
    "kernelspec": {
      "name": "python3",
      "display_name": "Python 3"
    },
    "language_info": {
      "name": "python"
    }
  },
  "cells": [
    {
      "cell_type": "markdown",
      "source": [
        "#Goal\n",
        "\n",
        "The VP of Product is interested in having a holistic view of conversion rate, especially focusing on actionable insights. What are your main findings looking at the data and what would be your top 3 product ideas to increase conversion rate?"
      ],
      "metadata": {
        "id": "HPei7UTZ6AJg"
      }
    },
    {
      "cell_type": "markdown",
      "source": [
        "## Data summary: \n",
        "Each row in the data set is a visit to the site from a given user.\n",
        "\n",
        "user_id : the ID of the user\n",
        "\n",
        "source : marketing channel that led to the user coming to the site. It can be:\n",
        "ads [“google”, “facebook”, “bing”, “yahoo”, “other”]. That is, user coming from google ads, yahoo ads, etc.\n",
        "seo - [“google”, “facebook”, “bing”, “yahoo”, “other”]. That is, user coming from google google search, yahoo, facebook, etc.\n",
        "friend_referral : user coming from a referral link of another user\n",
        "direct_traffic: user coming by directly typing the address of the site on the browser\n",
        "\n",
        "device : user device. Can be mobile or web\n",
        "\n",
        "operative_system : user operative system. Can be: “windows”, “linux”, “mac” for web, and “android”, “iOS” for mobile. Other if it is none of the above\n",
        "\n",
        "lat: user location (latitude), based on user ip address\n",
        "\n",
        "long : user location (longitude), based on user ip address\n",
        "\n",
        "weekday: on which day of the week this user visited my site. Useful to understand weekly patterns\n",
        "\n",
        "yearweek: in which week of the year this user visited my site. Useful to understand seasonality (only includes from week 10 to 22, meaning from March to end of May)\n",
        "\n",
        "converted : Our label, i.e. whether the user converted (i.e. 1 -> bought the product within that session) or not (0 -> left the site without buying). The project goal is to figure out how to increase the number of users who convert"
      ],
      "metadata": {
        "id": "diSqfoWJ6D3P"
      }
    },
    {
      "cell_type": "markdown",
      "source": [
        "# Analysis"
      ],
      "metadata": {
        "id": "iVgmfIZNW4Lk"
      }
    },
    {
      "cell_type": "code",
      "source": [
        "!pip install pandas-profiling==2.8.0 --quiet\n",
        "!jupyter nbextension enable --py widgetsnbextension\n",
        "#install Rulefit from github \n",
        "!pip install git+https://github.com/christophM/rulefit.git --quiet"
      ],
      "metadata": {
        "id": "FWve3b7q669K"
      },
      "execution_count": null,
      "outputs": []
    },
    {
      "cell_type": "code",
      "source": [
        "import sys\n",
        "from pandas_profiling import ProfileReport\n",
        "from math import e\n",
        "import statsmodels.api as sm \n",
        "import numpy as np\n",
        "\n",
        "import pandas\n",
        "pandas.set_option('display.max_columns', 10)\n",
        "pandas.set_option('display.width', 350)\n",
        "\n",
        "import graphviz\n",
        "from graphviz import Source\n",
        "from sklearn.tree import DecisionTreeClassifier\n",
        "from sklearn.tree import export_graphviz\n",
        "from sklearn.ensemble import RandomForestClassifier\n",
        "from sklearn.linear_model import LogisticRegression\n",
        "from rulefit import RuleFit\n",
        "\n"
      ],
      "metadata": {
        "colab": {
          "base_uri": "https://localhost:8080/"
        },
        "id": "daarCZL07Ki3",
        "outputId": "cb211af9-4f42-462d-d93b-ed32b8e90cc1"
      },
      "execution_count": null,
      "outputs": [
        {
          "output_type": "stream",
          "name": "stderr",
          "text": [
            "/usr/local/lib/python3.7/dist-packages/statsmodels/tools/_testing.py:19: FutureWarning: pandas.util.testing is deprecated. Use the functions in the public API at pandas.testing instead.\n",
            "  import pandas.util.testing as tm\n"
          ]
        }
      ]
    },
    {
      "cell_type": "code",
      "execution_count": null,
      "metadata": {
        "id": "m_mVkmZH54ee"
      },
      "outputs": [],
      "source": [
        "#read from google drive\n",
        "df = pandas.read_csv('https://drive.google.com/uc?export=download&id=1H_-mi6NzeZt1PhcanHofcf3H6UiItmxO')\n",
        "profile = ProfileReport(df, title=\"Pandas Profiling Report\",  explorative=True)"
      ]
    },
    {
      "cell_type": "code",
      "source": [
        "df.head()"
      ],
      "metadata": {
        "colab": {
          "base_uri": "https://localhost:8080/",
          "height": 206
        },
        "id": "7rFizI4K5-TV",
        "outputId": "b294d058-c81e-4a02-c43f-2e628722889e"
      },
      "execution_count": null,
      "outputs": [
        {
          "output_type": "execute_result",
          "data": {
            "text/html": [
              "\n",
              "  <div id=\"df-5d37fd75-045e-4cb8-a6ea-18a05c675bf0\">\n",
              "    <div class=\"colab-df-container\">\n",
              "      <div>\n",
              "<style scoped>\n",
              "    .dataframe tbody tr th:only-of-type {\n",
              "        vertical-align: middle;\n",
              "    }\n",
              "\n",
              "    .dataframe tbody tr th {\n",
              "        vertical-align: top;\n",
              "    }\n",
              "\n",
              "    .dataframe thead th {\n",
              "        text-align: right;\n",
              "    }\n",
              "</style>\n",
              "<table border=\"1\" class=\"dataframe\">\n",
              "  <thead>\n",
              "    <tr style=\"text-align: right;\">\n",
              "      <th></th>\n",
              "      <th>user_id</th>\n",
              "      <th>source</th>\n",
              "      <th>device</th>\n",
              "      <th>operative_system</th>\n",
              "      <th>lat</th>\n",
              "      <th>long</th>\n",
              "      <th>weekday</th>\n",
              "      <th>yearweek</th>\n",
              "      <th>converted</th>\n",
              "    </tr>\n",
              "  </thead>\n",
              "  <tbody>\n",
              "    <tr>\n",
              "      <th>0</th>\n",
              "      <td>3</td>\n",
              "      <td>seo_facebook</td>\n",
              "      <td>web</td>\n",
              "      <td>mac</td>\n",
              "      <td>38.89</td>\n",
              "      <td>-94.81</td>\n",
              "      <td>Friday</td>\n",
              "      <td>16</td>\n",
              "      <td>0</td>\n",
              "    </tr>\n",
              "    <tr>\n",
              "      <th>1</th>\n",
              "      <td>9</td>\n",
              "      <td>seo-google</td>\n",
              "      <td>mobile</td>\n",
              "      <td>android</td>\n",
              "      <td>41.68</td>\n",
              "      <td>-72.94</td>\n",
              "      <td>Friday</td>\n",
              "      <td>18</td>\n",
              "      <td>0</td>\n",
              "    </tr>\n",
              "    <tr>\n",
              "      <th>2</th>\n",
              "      <td>14</td>\n",
              "      <td>friend_referral</td>\n",
              "      <td>mobile</td>\n",
              "      <td>iOS</td>\n",
              "      <td>39.74</td>\n",
              "      <td>-75.53</td>\n",
              "      <td>Saturday</td>\n",
              "      <td>13</td>\n",
              "      <td>0</td>\n",
              "    </tr>\n",
              "    <tr>\n",
              "      <th>3</th>\n",
              "      <td>16</td>\n",
              "      <td>ads-google</td>\n",
              "      <td>mobile</td>\n",
              "      <td>android</td>\n",
              "      <td>37.99</td>\n",
              "      <td>-121.80</td>\n",
              "      <td>Friday</td>\n",
              "      <td>21</td>\n",
              "      <td>0</td>\n",
              "    </tr>\n",
              "    <tr>\n",
              "      <th>4</th>\n",
              "      <td>19</td>\n",
              "      <td>ads-google</td>\n",
              "      <td>mobile</td>\n",
              "      <td>android</td>\n",
              "      <td>41.08</td>\n",
              "      <td>-81.52</td>\n",
              "      <td>Wednesday</td>\n",
              "      <td>14</td>\n",
              "      <td>0</td>\n",
              "    </tr>\n",
              "  </tbody>\n",
              "</table>\n",
              "</div>\n",
              "      <button class=\"colab-df-convert\" onclick=\"convertToInteractive('df-5d37fd75-045e-4cb8-a6ea-18a05c675bf0')\"\n",
              "              title=\"Convert this dataframe to an interactive table.\"\n",
              "              style=\"display:none;\">\n",
              "        \n",
              "  <svg xmlns=\"http://www.w3.org/2000/svg\" height=\"24px\"viewBox=\"0 0 24 24\"\n",
              "       width=\"24px\">\n",
              "    <path d=\"M0 0h24v24H0V0z\" fill=\"none\"/>\n",
              "    <path d=\"M18.56 5.44l.94 2.06.94-2.06 2.06-.94-2.06-.94-.94-2.06-.94 2.06-2.06.94zm-11 1L8.5 8.5l.94-2.06 2.06-.94-2.06-.94L8.5 2.5l-.94 2.06-2.06.94zm10 10l.94 2.06.94-2.06 2.06-.94-2.06-.94-.94-2.06-.94 2.06-2.06.94z\"/><path d=\"M17.41 7.96l-1.37-1.37c-.4-.4-.92-.59-1.43-.59-.52 0-1.04.2-1.43.59L10.3 9.45l-7.72 7.72c-.78.78-.78 2.05 0 2.83L4 21.41c.39.39.9.59 1.41.59.51 0 1.02-.2 1.41-.59l7.78-7.78 2.81-2.81c.8-.78.8-2.07 0-2.86zM5.41 20L4 18.59l7.72-7.72 1.47 1.35L5.41 20z\"/>\n",
              "  </svg>\n",
              "      </button>\n",
              "      \n",
              "  <style>\n",
              "    .colab-df-container {\n",
              "      display:flex;\n",
              "      flex-wrap:wrap;\n",
              "      gap: 12px;\n",
              "    }\n",
              "\n",
              "    .colab-df-convert {\n",
              "      background-color: #E8F0FE;\n",
              "      border: none;\n",
              "      border-radius: 50%;\n",
              "      cursor: pointer;\n",
              "      display: none;\n",
              "      fill: #1967D2;\n",
              "      height: 32px;\n",
              "      padding: 0 0 0 0;\n",
              "      width: 32px;\n",
              "    }\n",
              "\n",
              "    .colab-df-convert:hover {\n",
              "      background-color: #E2EBFA;\n",
              "      box-shadow: 0px 1px 2px rgba(60, 64, 67, 0.3), 0px 1px 3px 1px rgba(60, 64, 67, 0.15);\n",
              "      fill: #174EA6;\n",
              "    }\n",
              "\n",
              "    [theme=dark] .colab-df-convert {\n",
              "      background-color: #3B4455;\n",
              "      fill: #D2E3FC;\n",
              "    }\n",
              "\n",
              "    [theme=dark] .colab-df-convert:hover {\n",
              "      background-color: #434B5C;\n",
              "      box-shadow: 0px 1px 3px 1px rgba(0, 0, 0, 0.15);\n",
              "      filter: drop-shadow(0px 1px 2px rgba(0, 0, 0, 0.3));\n",
              "      fill: #FFFFFF;\n",
              "    }\n",
              "  </style>\n",
              "\n",
              "      <script>\n",
              "        const buttonEl =\n",
              "          document.querySelector('#df-5d37fd75-045e-4cb8-a6ea-18a05c675bf0 button.colab-df-convert');\n",
              "        buttonEl.style.display =\n",
              "          google.colab.kernel.accessAllowed ? 'block' : 'none';\n",
              "\n",
              "        async function convertToInteractive(key) {\n",
              "          const element = document.querySelector('#df-5d37fd75-045e-4cb8-a6ea-18a05c675bf0');\n",
              "          const dataTable =\n",
              "            await google.colab.kernel.invokeFunction('convertToInteractive',\n",
              "                                                     [key], {});\n",
              "          if (!dataTable) return;\n",
              "\n",
              "          const docLinkHtml = 'Like what you see? Visit the ' +\n",
              "            '<a target=\"_blank\" href=https://colab.research.google.com/notebooks/data_table.ipynb>data table notebook</a>'\n",
              "            + ' to learn more about interactive tables.';\n",
              "          element.innerHTML = '';\n",
              "          dataTable['output_type'] = 'display_data';\n",
              "          await google.colab.output.renderOutput(dataTable, element);\n",
              "          const docLink = document.createElement('div');\n",
              "          docLink.innerHTML = docLinkHtml;\n",
              "          element.appendChild(docLink);\n",
              "        }\n",
              "      </script>\n",
              "    </div>\n",
              "  </div>\n",
              "  "
            ],
            "text/plain": [
              "   user_id           source  device operative_system    lat    long    weekday  yearweek  converted\n",
              "0        3     seo_facebook     web              mac  38.89  -94.81     Friday        16          0\n",
              "1        9       seo-google  mobile          android  41.68  -72.94     Friday        18          0\n",
              "2       14  friend_referral  mobile              iOS  39.74  -75.53   Saturday        13          0\n",
              "3       16       ads-google  mobile          android  37.99 -121.80     Friday        21          0\n",
              "4       19       ads-google  mobile          android  41.08  -81.52  Wednesday        14          0"
            ]
          },
          "metadata": {},
          "execution_count": 3
        }
      ]
    },
    {
      "cell_type": "code",
      "source": [
        "df.info()"
      ],
      "metadata": {
        "colab": {
          "base_uri": "https://localhost:8080/"
        },
        "id": "1Wr0QpG06Slp",
        "outputId": "34925355-de6d-4bf7-8406-34fcf658e11b"
      },
      "execution_count": null,
      "outputs": [
        {
          "output_type": "stream",
          "name": "stdout",
          "text": [
            "<class 'pandas.core.frame.DataFrame'>\n",
            "RangeIndex: 275616 entries, 0 to 275615\n",
            "Data columns (total 9 columns):\n",
            " #   Column            Non-Null Count   Dtype  \n",
            "---  ------            --------------   -----  \n",
            " 0   user_id           275616 non-null  int64  \n",
            " 1   source            275616 non-null  object \n",
            " 2   device            275616 non-null  object \n",
            " 3   operative_system  275616 non-null  object \n",
            " 4   lat               275616 non-null  float64\n",
            " 5   long              275616 non-null  float64\n",
            " 6   weekday           275616 non-null  object \n",
            " 7   yearweek          275616 non-null  int64  \n",
            " 8   converted         275616 non-null  int64  \n",
            "dtypes: float64(2), int64(3), object(4)\n",
            "memory usage: 18.9+ MB\n"
          ]
        }
      ]
    },
    {
      "cell_type": "code",
      "source": [
        "profile.to_widgets()"
      ],
      "metadata": {
        "id": "bgUUjfQs8iBD"
      },
      "execution_count": null,
      "outputs": []
    },
    {
      "cell_type": "markdown",
      "source": [
        "# Analysis plan\n",
        "\n",
        "To analyze these data we will take the following steps:\n",
        "*    Run logistic regression against the target label\n",
        "*    Run decision tree against the target label \n",
        "*    Run Rulefit against the target label\n",
        "*    Combine obersational insights across all models to generate main findings and top 3 product ideas to increase conversion rate\n",
        "\n",
        "\n",
        "\n",
        "\n"
      ],
      "metadata": {
        "id": "RZSmPRTy9086"
      }
    },
    {
      "cell_type": "code",
      "source": [
        "data_categorical = df.select_dtypes(['object']).astype(\"category\") \n",
        "print(data_categorical.apply(lambda x: x.cat.categories[0]))"
      ],
      "metadata": {
        "colab": {
          "base_uri": "https://localhost:8080/"
        },
        "id": "Ntzc1194-0c0",
        "outputId": "aabfd651-1c2d-4a96-a0d6-6c75c2259076"
      },
      "execution_count": null,
      "outputs": [
        {
          "output_type": "stream",
          "name": "stdout",
          "text": [
            "source              ads-bing\n",
            "device                mobile\n",
            "operative_system     android\n",
            "weekday               Friday\n",
            "dtype: object\n"
          ]
        }
      ]
    },
    {
      "cell_type": "markdown",
      "source": [
        "# Logistic Regression\n"
      ],
      "metadata": {
        "id": "biRQp5EmXGxG"
      }
    },
    {
      "cell_type": "code",
      "source": [
        "#Make dummy variables from the df categorical \n",
        "data = pandas.get_dummies(df, drop_first=True)\n",
        "  \n",
        "#add intercept\n",
        "data['intercept'] = 1\n",
        "#drop the label from df\n",
        "train_cols = data.drop('converted', axis=1)\n",
        "  \n",
        "#Build Logistic Regression\n",
        "logit = sm.Logit(data['converted'], train_cols)\n",
        "output = logit.fit()"
      ],
      "metadata": {
        "colab": {
          "base_uri": "https://localhost:8080/"
        },
        "id": "qN5KDB20_cQa",
        "outputId": "37a44efb-be63-4aca-b0a6-07eb6cdf7d79"
      },
      "execution_count": null,
      "outputs": [
        {
          "output_type": "stream",
          "name": "stdout",
          "text": [
            "Warning: Maximum number of iterations has been exceeded.\n",
            "         Current function value: 0.089555\n",
            "         Iterations: 35\n"
          ]
        },
        {
          "output_type": "stream",
          "name": "stderr",
          "text": [
            "/usr/local/lib/python3.7/dist-packages/statsmodels/base/model.py:512: ConvergenceWarning: Maximum Likelihood optimization failed to converge. Check mle_retvals\n",
            "  \"Check mle_retvals\", ConvergenceWarning)\n"
          ]
        }
      ]
    },
    {
      "cell_type": "code",
      "source": [
        "#build output table dataframe from output\n",
        "output_table = pandas.DataFrame(dict(coefficients = output.params, SE = output.bse, z = output.tvalues, p_values = output.pvalues))\n",
        "#get coefficients and pvalues\n",
        "print(output_table)"
      ],
      "metadata": {
        "colab": {
          "base_uri": "https://localhost:8080/"
        },
        "id": "SFQ0eiR3AOfu",
        "outputId": "444be930-9dd7-46b1-b719-a6322e6dd8da"
      },
      "execution_count": null,
      "outputs": [
        {
          "output_type": "stream",
          "name": "stdout",
          "text": [
            "                          coefficients            SE          z       p_values\n",
            "user_id                   2.620194e-08  4.946964e-08   0.529657   5.963498e-01\n",
            "lat                      -5.316089e-03  2.768778e-03  -1.920013   5.485627e-02\n",
            "long                     -1.061962e-04  8.012621e-04  -0.132536   8.945602e-01\n",
            "yearweek                 -7.336524e-04  3.814630e-03  -0.192326   8.474869e-01\n",
            "source_ads-google         5.870313e-01  7.199678e-02   8.153577   3.533160e-16\n",
            "source_ads-yahoo          2.004106e-01  1.217949e-01   1.645476   9.987167e-02\n",
            "source_ads_facebook       5.773647e-01  7.277078e-02   7.934018   2.121665e-15\n",
            "source_ads_other          1.865445e-01  8.344581e-02   2.235517   2.538346e-02\n",
            "source_direct_traffic     1.547397e-02  7.642260e-02   0.202479   8.395423e-01\n",
            "source_friend_referral    1.177281e+00  7.602926e-02  15.484575   4.409649e-54\n",
            "source_seo-bing           5.738001e-01  1.726991e-01   3.322543   8.920106e-04\n",
            "source_seo-google         3.567429e-01  8.499189e-02   4.197376   2.700258e-05\n",
            "source_seo-other          2.875826e-01  1.104554e-01   2.603607   9.224834e-03\n",
            "source_seo-yahoo          3.360436e-01  1.205641e-01   2.787261   5.315571e-03\n",
            "source_seo_facebook       2.901165e-01  8.789769e-02   3.300615   9.647307e-04\n",
            "device_web               -1.480332e+01  1.472872e+03  -0.010051   9.919809e-01\n",
            "operative_system_iOS      4.075361e-01  4.006477e-02  10.171930   2.646118e-24\n",
            "operative_system_linux    1.419644e+01  1.472872e+03   0.009639   9.923096e-01\n",
            "operative_system_mac      1.529956e+01  1.472872e+03   0.010388   9.917121e-01\n",
            "operative_system_other   -1.700951e-01  8.294225e-02  -2.050765   4.028980e-02\n",
            "operative_system_windows  1.492408e+01  1.472872e+03   0.010133   9.919155e-01\n",
            "weekday_Monday           -5.009528e-02  6.431655e-02  -0.778886   4.360467e-01\n",
            "weekday_Saturday         -3.008058e-02  3.950182e-02  -0.761499   4.463592e-01\n",
            "weekday_Sunday            5.649415e-03  4.258680e-02   0.132657   8.944650e-01\n",
            "weekday_Thursday         -1.936088e-02  4.914974e-02  -0.393916   6.936429e-01\n",
            "weekday_Tuesday          -1.426190e-01  6.617874e-02  -2.155058   3.115732e-02\n",
            "weekday_Wednesday        -4.749865e-02  6.486737e-02  -0.732243   4.640205e-01\n",
            "intercept                -4.409939e+00  1.688107e-01 -26.123578  1.967960e-150\n"
          ]
        }
      ]
    },
    {
      "cell_type": "code",
      "source": [
        "#only keep significant variables and sort by coefficient\n",
        "output_significant = output_table.loc[output_table['p_values'] < 0.05].sort_values(\"coefficients\", ascending=False)"
      ],
      "metadata": {
        "id": "M3mVQlyBAV_8"
      },
      "execution_count": null,
      "outputs": []
    },
    {
      "cell_type": "code",
      "source": [
        "print(output_significant)"
      ],
      "metadata": {
        "colab": {
          "base_uri": "https://localhost:8080/"
        },
        "id": "-RqzzTAsVAPz",
        "outputId": "b5d5c5f4-f308-4bb0-e21e-75a6ecaf8dff"
      },
      "execution_count": null,
      "outputs": [
        {
          "output_type": "stream",
          "name": "stdout",
          "text": [
            "                        coefficients        SE          z       p_values\n",
            "source_friend_referral      1.177281  0.076029  15.484575   4.409649e-54\n",
            "source_ads-google           0.587031  0.071997   8.153577   3.533160e-16\n",
            "source_ads_facebook         0.577365  0.072771   7.934018   2.121665e-15\n",
            "source_seo-bing             0.573800  0.172699   3.322543   8.920106e-04\n",
            "operative_system_iOS        0.407536  0.040065  10.171930   2.646118e-24\n",
            "source_seo-google           0.356743  0.084992   4.197376   2.700258e-05\n",
            "source_seo-yahoo            0.336044  0.120564   2.787261   5.315571e-03\n",
            "source_seo_facebook         0.290116  0.087898   3.300615   9.647307e-04\n",
            "source_seo-other            0.287583  0.110455   2.603607   9.224834e-03\n",
            "source_ads_other            0.186544  0.083446   2.235517   2.538346e-02\n",
            "weekday_Tuesday            -0.142619  0.066179  -2.155058   3.115732e-02\n",
            "operative_system_other     -0.170095  0.082942  -2.050765   4.028980e-02\n",
            "intercept                  -4.409939  0.168811 -26.123578  1.967960e-150\n"
          ]
        }
      ]
    },
    {
      "cell_type": "code",
      "source": [
        "e**output_significant.iloc[0:1,0]"
      ],
      "metadata": {
        "colab": {
          "base_uri": "https://localhost:8080/"
        },
        "id": "FnsDwrRgUwPW",
        "outputId": "df708c69-d585-4b49-9bcc-5e779a0a8153"
      },
      "execution_count": null,
      "outputs": [
        {
          "output_type": "execute_result",
          "data": {
            "text/plain": [
              "source_friend_referral    3.245537\n",
              "Name: coefficients, dtype: float64"
            ]
          },
          "metadata": {},
          "execution_count": 30
        }
      ]
    },
    {
      "cell_type": "code",
      "source": [
        "e**output_significant.iloc[1:2,0]"
      ],
      "metadata": {
        "colab": {
          "base_uri": "https://localhost:8080/"
        },
        "id": "O9_zuesgQiJG",
        "outputId": "e99734c9-d9bd-4516-dc22-9e14f135ec0c"
      },
      "execution_count": null,
      "outputs": [
        {
          "output_type": "execute_result",
          "data": {
            "text/plain": [
              "source_ads-google    1.798641\n",
              "Name: coefficients, dtype: float64"
            ]
          },
          "metadata": {},
          "execution_count": 31
        }
      ]
    },
    {
      "cell_type": "markdown",
      "source": [
        "## General Insights\n",
        "\n",
        "\n",
        "*   Friend referral as a source seems very important in influencing whether a user converts in this dataset. The source_friend_referral has 3.24 times the odds of the reference source variable (ads-bing) of converting. This source of traffic has over double the odds of converting vs. the next highest coefficient with significance (source_ads-google). \n",
        "\n",
        "  * Recommendation: It may be worth exploring how this source label is recorded in the onboarding process to see whether this is just a correlation or is actually a causal relationship. If we can determine that it's a causal relationship (potentially with a test), then we should prioritize campaigns where we incentivize current users to get their friends to join with an incentive. We should look at sementing our current users to see how the performance of the referral link process also varies by each user-segment.\n",
        "\n",
        "* Both source_ads-google and source_ads_facebook have higher odds of converting than SEO sources. This is interesting because Google and Bing both recommend 'owning' the top search result, but SEO is historically a higher quality source of traffic. \n",
        "  * Recommendation: If we're currently over-bidding to own the top ad slot in SERPs there's a chance we may just be diverting quality SEO traffic to our site through this top slot. We should split test on Google ads randomly abstaining from showing a few branded keywords and re-running this model to compare before/after the period. If we see that the coefficients for these sources flip during the time-period of the test, that result may suggest that we've simply been diverting quality traffic to our ad clicks (lowering our margin) that would've clicked on organic results (free) anyway.\n",
        "\n",
        "* operative_system_iOS seems important in influencing whether a user converts in this data set. This may indicate that we have a better page-loading experience on iOS vs. other devices, and we should investigate whether users on other devices are having trouble getting through the flow, or whether the page loads materially faster on one device vs. another. If we find any of these behaviors, we should implement fixes and monitor for improvement across product key metrics, grouping by operating system. \n",
        "\n"
      ],
      "metadata": {
        "id": "jg1Rvu2EN4FM"
      }
    },
    {
      "cell_type": "markdown",
      "source": [
        "# Decision Tree"
      ],
      "metadata": {
        "id": "95Nc9aFeXBFs"
      }
    },
    {
      "cell_type": "code",
      "source": [
        "PROJECT_ROOT_DIR = \".\"\n",
        "CHAPTER_ID = \"decision_trees\"\n",
        "IMAGES_PATH = os.path.join(PROJECT_ROOT_DIR, \"images\", CHAPTER_ID)\n",
        "os.makedirs(IMAGES_PATH, exist_ok=True)\n",
        "  \n",
        "\n",
        "data = pandas.get_dummies(df, drop_first=True)\n",
        "train_cols = data.drop('converted', axis=1)\n",
        "\n",
        "#build the tree\n",
        "tree=DecisionTreeClassifier(\n",
        "    #set max tree dept at 4. \n",
        "    max_depth=6,\n",
        "    #change weights given that we have unbalanced classes. Our data set is now perfectly balanced. It makes easier to look at tree output\n",
        "    class_weight=\"balanced\",\n",
        "    #only split if it's worthwhile. The default value of 0 means always split no matter what if you can increase overall performance, which might lead to irrelevant splits\n",
        "    min_impurity_decrease = 0.001\n",
        "    )\n",
        "tree.fit(train_cols,data['converted'])\n",
        "  \n",
        "#visualize it\n",
        "export_graphviz(tree, out_file=\"tree_.dot\", feature_names=train_cols.columns, proportion=True)\n"
      ],
      "metadata": {
        "id": "MUGgrQ-VE8MW"
      },
      "execution_count": null,
      "outputs": []
    },
    {
      "cell_type": "code",
      "source": [
        "Source.from_file(\"/content/tree_.dot\")"
      ],
      "metadata": {
        "colab": {
          "base_uri": "https://localhost:8080/",
          "height": 657
        },
        "id": "_Fy0IJQfUMa1",
        "outputId": "d6f43e0f-bb43-4bb0-ee1d-0be074037240"
      },
      "execution_count": null,
      "outputs": [
        {
          "output_type": "execute_result",
          "data": {
            "text/plain": [
              "<graphviz.files.Source at 0x7f9cbab46ad0>"
            ],
            "image/svg+xml": "<?xml version=\"1.0\" encoding=\"UTF-8\" standalone=\"no\"?>\n<!DOCTYPE svg PUBLIC \"-//W3C//DTD SVG 1.1//EN\"\n \"http://www.w3.org/Graphics/SVG/1.1/DTD/svg11.dtd\">\n<!-- Generated by graphviz version 2.40.1 (20161225.0304)\n -->\n<!-- Title: Tree Pages: 1 -->\n<svg width=\"628pt\" height=\"477pt\"\n viewBox=\"0.00 0.00 628.00 477.00\" xmlns=\"http://www.w3.org/2000/svg\" xmlns:xlink=\"http://www.w3.org/1999/xlink\">\n<g id=\"graph0\" class=\"graph\" transform=\"scale(1 1) rotate(0) translate(4 473)\">\n<title>Tree</title>\n<polygon fill=\"#ffffff\" stroke=\"transparent\" points=\"-4,4 -4,-473 624,-473 624,4 -4,4\"/>\n<!-- 0 -->\n<g id=\"node1\" class=\"node\">\n<title>0</title>\n<polygon fill=\"none\" stroke=\"#000000\" points=\"559.5,-469 356.5,-469 356.5,-401 559.5,-401 559.5,-469\"/>\n<text text-anchor=\"middle\" x=\"458\" y=\"-453.8\" font-family=\"Helvetica,sans-Serif\" font-size=\"14.00\" fill=\"#000000\">source_friend_referral &lt;= 0.5</text>\n<text text-anchor=\"middle\" x=\"458\" y=\"-438.8\" font-family=\"Helvetica,sans-Serif\" font-size=\"14.00\" fill=\"#000000\">gini = 0.5</text>\n<text text-anchor=\"middle\" x=\"458\" y=\"-423.8\" font-family=\"Helvetica,sans-Serif\" font-size=\"14.00\" fill=\"#000000\">samples = 100.0%</text>\n<text text-anchor=\"middle\" x=\"458\" y=\"-408.8\" font-family=\"Helvetica,sans-Serif\" font-size=\"14.00\" fill=\"#000000\">value = [0.5, 0.5]</text>\n</g>\n<!-- 1 -->\n<g id=\"node2\" class=\"node\">\n<title>1</title>\n<polygon fill=\"none\" stroke=\"#000000\" points=\"461.5,-365 270.5,-365 270.5,-297 461.5,-297 461.5,-365\"/>\n<text text-anchor=\"middle\" x=\"366\" y=\"-349.8\" font-family=\"Helvetica,sans-Serif\" font-size=\"14.00\" fill=\"#000000\">source_direct_traffic &lt;= 0.5</text>\n<text text-anchor=\"middle\" x=\"366\" y=\"-334.8\" font-family=\"Helvetica,sans-Serif\" font-size=\"14.00\" fill=\"#000000\">gini = 0.499</text>\n<text text-anchor=\"middle\" x=\"366\" y=\"-319.8\" font-family=\"Helvetica,sans-Serif\" font-size=\"14.00\" fill=\"#000000\">samples = 93.5%</text>\n<text text-anchor=\"middle\" x=\"366\" y=\"-304.8\" font-family=\"Helvetica,sans-Serif\" font-size=\"14.00\" fill=\"#000000\">value = [0.52, 0.48]</text>\n</g>\n<!-- 0&#45;&gt;1 -->\n<g id=\"edge1\" class=\"edge\">\n<title>0&#45;&gt;1</title>\n<path fill=\"none\" stroke=\"#000000\" d=\"M427.8758,-400.9465C419.9332,-391.968 411.2709,-382.1758 403.011,-372.8385\"/>\n<polygon fill=\"#000000\" stroke=\"#000000\" points=\"405.4392,-370.301 396.1919,-365.13 400.1962,-374.939 405.4392,-370.301\"/>\n<text text-anchor=\"middle\" x=\"394.6642\" y=\"-386.3833\" font-family=\"Helvetica,sans-Serif\" font-size=\"14.00\" fill=\"#000000\">True</text>\n</g>\n<!-- 8 -->\n<g id=\"node9\" class=\"node\">\n<title>8</title>\n<polygon fill=\"none\" stroke=\"#000000\" points=\"620,-357.5 480,-357.5 480,-304.5 620,-304.5 620,-357.5\"/>\n<text text-anchor=\"middle\" x=\"550\" y=\"-342.3\" font-family=\"Helvetica,sans-Serif\" font-size=\"14.00\" fill=\"#000000\">gini = 0.435</text>\n<text text-anchor=\"middle\" x=\"550\" y=\"-327.3\" font-family=\"Helvetica,sans-Serif\" font-size=\"14.00\" fill=\"#000000\">samples = 6.5%</text>\n<text text-anchor=\"middle\" x=\"550\" y=\"-312.3\" font-family=\"Helvetica,sans-Serif\" font-size=\"14.00\" fill=\"#000000\">value = [0.32, 0.68]</text>\n</g>\n<!-- 0&#45;&gt;8 -->\n<g id=\"edge8\" class=\"edge\">\n<title>0&#45;&gt;8</title>\n<path fill=\"none\" stroke=\"#000000\" d=\"M488.1242,-400.9465C498.258,-389.491 509.5633,-376.711 519.7097,-365.2412\"/>\n<polygon fill=\"#000000\" stroke=\"#000000\" points=\"522.5161,-367.3512 526.5204,-357.5422 517.2731,-362.7131 522.5161,-367.3512\"/>\n<text text-anchor=\"middle\" x=\"528.0481\" y=\"-378.7954\" font-family=\"Helvetica,sans-Serif\" font-size=\"14.00\" fill=\"#000000\">False</text>\n</g>\n<!-- 2 -->\n<g id=\"node3\" class=\"node\">\n<title>2</title>\n<polygon fill=\"none\" stroke=\"#000000\" points=\"370,-261 162,-261 162,-193 370,-193 370,-261\"/>\n<text text-anchor=\"middle\" x=\"266\" y=\"-245.8\" font-family=\"Helvetica,sans-Serif\" font-size=\"14.00\" fill=\"#000000\">operative_system_iOS &lt;= 0.5</text>\n<text text-anchor=\"middle\" x=\"266\" y=\"-230.8\" font-family=\"Helvetica,sans-Serif\" font-size=\"14.00\" fill=\"#000000\">gini = 0.5</text>\n<text text-anchor=\"middle\" x=\"266\" y=\"-215.8\" font-family=\"Helvetica,sans-Serif\" font-size=\"14.00\" fill=\"#000000\">samples = 74.4%</text>\n<text text-anchor=\"middle\" x=\"266\" y=\"-200.8\" font-family=\"Helvetica,sans-Serif\" font-size=\"14.00\" fill=\"#000000\">value = [0.502, 0.498]</text>\n</g>\n<!-- 1&#45;&gt;2 -->\n<g id=\"edge2\" class=\"edge\">\n<title>1&#45;&gt;2</title>\n<path fill=\"none\" stroke=\"#000000\" d=\"M333.2563,-296.9465C324.5367,-287.8782 315.0191,-277.9799 305.9601,-268.5585\"/>\n<polygon fill=\"#000000\" stroke=\"#000000\" points=\"308.2713,-265.9125 298.8173,-261.13 303.2255,-270.7642 308.2713,-265.9125\"/>\n</g>\n<!-- 7 -->\n<g id=\"node8\" class=\"node\">\n<title>7</title>\n<polygon fill=\"none\" stroke=\"#000000\" points=\"544,-253.5 388,-253.5 388,-200.5 544,-200.5 544,-253.5\"/>\n<text text-anchor=\"middle\" x=\"466\" y=\"-238.3\" font-family=\"Helvetica,sans-Serif\" font-size=\"14.00\" fill=\"#000000\">gini = 0.479</text>\n<text text-anchor=\"middle\" x=\"466\" y=\"-223.3\" font-family=\"Helvetica,sans-Serif\" font-size=\"14.00\" fill=\"#000000\">samples = 19.1%</text>\n<text text-anchor=\"middle\" x=\"466\" y=\"-208.3\" font-family=\"Helvetica,sans-Serif\" font-size=\"14.00\" fill=\"#000000\">value = [0.601, 0.399]</text>\n</g>\n<!-- 1&#45;&gt;7 -->\n<g id=\"edge7\" class=\"edge\">\n<title>1&#45;&gt;7</title>\n<path fill=\"none\" stroke=\"#000000\" d=\"M398.7437,-296.9465C409.8646,-285.3809 422.2835,-272.4652 433.3936,-260.9107\"/>\n<polygon fill=\"#000000\" stroke=\"#000000\" points=\"436.0705,-263.1764 440.4787,-253.5422 431.0246,-258.3246 436.0705,-263.1764\"/>\n</g>\n<!-- 3 -->\n<g id=\"node4\" class=\"node\">\n<title>3</title>\n<polygon fill=\"none\" stroke=\"#000000\" points=\"271,-157 59,-157 59,-89 271,-89 271,-157\"/>\n<text text-anchor=\"middle\" x=\"165\" y=\"-141.8\" font-family=\"Helvetica,sans-Serif\" font-size=\"14.00\" fill=\"#000000\">operative_system_mac &lt;= 0.5</text>\n<text text-anchor=\"middle\" x=\"165\" y=\"-126.8\" font-family=\"Helvetica,sans-Serif\" font-size=\"14.00\" fill=\"#000000\">gini = 0.498</text>\n<text text-anchor=\"middle\" x=\"165\" y=\"-111.8\" font-family=\"Helvetica,sans-Serif\" font-size=\"14.00\" fill=\"#000000\">samples = 52.0%</text>\n<text text-anchor=\"middle\" x=\"165\" y=\"-96.8\" font-family=\"Helvetica,sans-Serif\" font-size=\"14.00\" fill=\"#000000\">value = [0.528, 0.472]</text>\n</g>\n<!-- 2&#45;&gt;3 -->\n<g id=\"edge3\" class=\"edge\">\n<title>2&#45;&gt;3</title>\n<path fill=\"none\" stroke=\"#000000\" d=\"M232.9288,-192.9465C224.1221,-183.8782 214.5093,-173.9799 205.3597,-164.5585\"/>\n<polygon fill=\"#000000\" stroke=\"#000000\" points=\"207.6232,-161.8654 198.1455,-157.13 202.6015,-166.7422 207.6232,-161.8654\"/>\n</g>\n<!-- 6 -->\n<g id=\"node7\" class=\"node\">\n<title>6</title>\n<polygon fill=\"none\" stroke=\"#000000\" points=\"445,-149.5 289,-149.5 289,-96.5 445,-96.5 445,-149.5\"/>\n<text text-anchor=\"middle\" x=\"367\" y=\"-134.3\" font-family=\"Helvetica,sans-Serif\" font-size=\"14.00\" fill=\"#000000\">gini = 0.495</text>\n<text text-anchor=\"middle\" x=\"367\" y=\"-119.3\" font-family=\"Helvetica,sans-Serif\" font-size=\"14.00\" fill=\"#000000\">samples = 22.4%</text>\n<text text-anchor=\"middle\" x=\"367\" y=\"-104.3\" font-family=\"Helvetica,sans-Serif\" font-size=\"14.00\" fill=\"#000000\">value = [0.451, 0.549]</text>\n</g>\n<!-- 2&#45;&gt;6 -->\n<g id=\"edge6\" class=\"edge\">\n<title>2&#45;&gt;6</title>\n<path fill=\"none\" stroke=\"#000000\" d=\"M299.0712,-192.9465C310.3032,-181.3809 322.8463,-168.4652 334.0675,-156.9107\"/>\n<polygon fill=\"#000000\" stroke=\"#000000\" points=\"336.7674,-159.1544 341.2235,-149.5422 331.7458,-154.2776 336.7674,-159.1544\"/>\n</g>\n<!-- 4 -->\n<g id=\"node5\" class=\"node\">\n<title>4</title>\n<polygon fill=\"none\" stroke=\"#000000\" points=\"156,-53 0,-53 0,0 156,0 156,-53\"/>\n<text text-anchor=\"middle\" x=\"78\" y=\"-37.8\" font-family=\"Helvetica,sans-Serif\" font-size=\"14.00\" fill=\"#000000\">gini = 0.496</text>\n<text text-anchor=\"middle\" x=\"78\" y=\"-22.8\" font-family=\"Helvetica,sans-Serif\" font-size=\"14.00\" fill=\"#000000\">samples = 46.1%</text>\n<text text-anchor=\"middle\" x=\"78\" y=\"-7.8\" font-family=\"Helvetica,sans-Serif\" font-size=\"14.00\" fill=\"#000000\">value = [0.545, 0.455]</text>\n</g>\n<!-- 3&#45;&gt;4 -->\n<g id=\"edge4\" class=\"edge\">\n<title>3&#45;&gt;4</title>\n<path fill=\"none\" stroke=\"#000000\" d=\"M134.3271,-88.9777C126.0715,-79.8207 117.1391,-69.9129 108.8728,-60.744\"/>\n<polygon fill=\"#000000\" stroke=\"#000000\" points=\"111.4108,-58.3321 102.1152,-53.2485 106.2117,-63.0193 111.4108,-58.3321\"/>\n</g>\n<!-- 5 -->\n<g id=\"node6\" class=\"node\">\n<title>5</title>\n<polygon fill=\"none\" stroke=\"#000000\" points=\"330,-53 174,-53 174,0 330,0 330,-53\"/>\n<text text-anchor=\"middle\" x=\"252\" y=\"-37.8\" font-family=\"Helvetica,sans-Serif\" font-size=\"14.00\" fill=\"#000000\">gini = 0.489</text>\n<text text-anchor=\"middle\" x=\"252\" y=\"-22.8\" font-family=\"Helvetica,sans-Serif\" font-size=\"14.00\" fill=\"#000000\">samples = 5.9%</text>\n<text text-anchor=\"middle\" x=\"252\" y=\"-7.8\" font-family=\"Helvetica,sans-Serif\" font-size=\"14.00\" fill=\"#000000\">value = [0.427, 0.573]</text>\n</g>\n<!-- 3&#45;&gt;5 -->\n<g id=\"edge5\" class=\"edge\">\n<title>3&#45;&gt;5</title>\n<path fill=\"none\" stroke=\"#000000\" d=\"M195.6729,-88.9777C203.9285,-79.8207 212.8609,-69.9129 221.1272,-60.744\"/>\n<polygon fill=\"#000000\" stroke=\"#000000\" points=\"223.7883,-63.0193 227.8848,-53.2485 218.5892,-58.3321 223.7883,-63.0193\"/>\n</g>\n</g>\n</svg>\n"
          },
          "metadata": {},
          "execution_count": 58
        }
      ]
    },
    {
      "cell_type": "markdown",
      "source": [
        "## General Insights\n",
        "\n",
        "\n",
        "*   None of the gini indexes here are very good, considering that most are still above .45. The only one that dips below .45 gini index is the first leaf (which is 'source_friend_referral <= 0.5 is FALSE', indicating these are people that converted and had a source_friend_referral ). The proportion of events in this node is 6.5% so it doesn't capture a lot of the total events in the dataset. The class 0/1 values are respectively, 32% and 68% so this leaf has identified a segment with a higher percentage of people who convert.\n",
        "\n",
        "*   If we continue down the tree, we don't see a structure that's particularly useful for generating insights over the logistic regression. There aren't any combinations of feature_1 and feature_2 that are meaningful. "
      ],
      "metadata": {
        "id": "c5F862sLUh6L"
      }
    },
    {
      "cell_type": "markdown",
      "source": [
        "# Rulefit"
      ],
      "metadata": {
        "id": "9hWJ7HHBWqi4"
      }
    },
    {
      "cell_type": "code",
      "source": [
        "\n",
        "rf=RandomForestClassifier(max_depth=2, n_estimators=10, class_weight={0:0.05,1:0.95})\n",
        "  \n",
        "#set RuleFit parameters. \n",
        "\"\"\" We are keeping RuleFit pretty small here to make it faster. \n",
        "Increasing max_depth, n_estimators, and setting exp_rand_tree_size = True \n",
        "will generate way more rules and make it somewhat more reliable. \n",
        "As always, there is a trade-off between accuracy and processing time, \n",
        "which should be considered on a case-by-case basis. \n",
        "Note that RuleFit is really slow, so this trade-off is pretty significant here. \"\"\"\n",
        "\n",
        "rufi=RuleFit(rfmode=\"classify\", tree_generator=rf, exp_rand_tree_size=False, lin_standardise=False)\n",
        "#fit RuleFit\n",
        "rufi.fit(train_cols.values, data['converted'].values, feature_names = train_cols.columns)\n",
        "print(\"We have extracted\", rufi.transform(train_cols.values).shape[1], \"rules\")\n"
      ],
      "metadata": {
        "colab": {
          "base_uri": "https://localhost:8080/"
        },
        "id": "zjARvVUgaTpT",
        "outputId": "71af8c77-c465-4a4a-de0b-77077f5d8cd5"
      },
      "execution_count": null,
      "outputs": [
        {
          "output_type": "stream",
          "name": "stdout",
          "text": [
            "We have extracted 37 rules\n"
          ]
        }
      ]
    },
    {
      "cell_type": "code",
      "source": [
        "#These are a few of the rules we have extracted\n",
        "output=rufi.get_rules()\n",
        "print(output[output['type']==\"rule\"]['rule'].head().values)"
      ],
      "metadata": {
        "colab": {
          "base_uri": "https://localhost:8080/"
        },
        "id": "6-tael25bRP6",
        "outputId": "50a33657-c6ee-41da-b2e3-012fed8851f5"
      },
      "execution_count": null,
      "outputs": [
        {
          "output_type": "stream",
          "name": "stdout",
          "text": [
            "['operative_system_linux <= 0.5 & source_friend_referral <= 0.5'\n",
            " 'source_seo-google <= 0.5 & source_direct_traffic <= 0.5'\n",
            " 'weekday_Tuesday <= 0.5 & source_ads_other > 0.5'\n",
            " 'source_friend_referral > 0.5 & source_ads_other <= 0.5'\n",
            " 'lat > 27.885000228881836 & source_direct_traffic > 0.5']\n"
          ]
        }
      ]
    },
    {
      "cell_type": "code",
      "source": [
        "pandas.set_option('display.width', 500)\n",
        "\n",
        "#X_concat is the new dataset given by the original variables (train_cols.values)\n",
        "#as well as the new rules extracted from the trees (rufi.transform(train_cols.values))\n",
        "X_concat = np.concatenate((train_cols, rufi.transform(train_cols.values)), axis=1)\n",
        "#Build the logistic regression with penalty. This will set low coefficients to zero, so only the relevant ones will survive\n",
        "log = LogisticRegression(penalty='l1', solver='liblinear', C=0.1)\n",
        "log.fit(X_concat, data['converted'])\n",
        "#get the full output with variables, coefficients, and support\n",
        "output.iloc[:,2] = np.transpose(log.coef_)\n",
        "output[output['coef']!=0].sort_values('coef', ascending = False )"
      ],
      "metadata": {
        "colab": {
          "base_uri": "https://localhost:8080/",
          "height": 799
        },
        "id": "n2dIM8nfbV8o",
        "outputId": "e6202df3-e046-4369-cb62-b9192012be15"
      },
      "execution_count": null,
      "outputs": [
        {
          "output_type": "execute_result",
          "data": {
            "text/html": [
              "\n",
              "  <div id=\"df-3c72c95e-9c45-4dbe-9458-02cf22f5f607\">\n",
              "    <div class=\"colab-df-container\">\n",
              "      <div>\n",
              "<style scoped>\n",
              "    .dataframe tbody tr th:only-of-type {\n",
              "        vertical-align: middle;\n",
              "    }\n",
              "\n",
              "    .dataframe tbody tr th {\n",
              "        vertical-align: top;\n",
              "    }\n",
              "\n",
              "    .dataframe thead th {\n",
              "        text-align: right;\n",
              "    }\n",
              "</style>\n",
              "<table border=\"1\" class=\"dataframe\">\n",
              "  <thead>\n",
              "    <tr style=\"text-align: right;\">\n",
              "      <th></th>\n",
              "      <th>rule</th>\n",
              "      <th>type</th>\n",
              "      <th>coef</th>\n",
              "      <th>support</th>\n",
              "      <th>importance</th>\n",
              "    </tr>\n",
              "  </thead>\n",
              "  <tbody>\n",
              "    <tr>\n",
              "      <th>16</th>\n",
              "      <td>operative_system_iOS</td>\n",
              "      <td>linear</td>\n",
              "      <td>3.980483e-01</td>\n",
              "      <td>1.000000</td>\n",
              "      <td>0.000000</td>\n",
              "    </tr>\n",
              "    <tr>\n",
              "      <th>4</th>\n",
              "      <td>source_ads-google</td>\n",
              "      <td>linear</td>\n",
              "      <td>3.473104e-01</td>\n",
              "      <td>1.000000</td>\n",
              "      <td>0.000000</td>\n",
              "    </tr>\n",
              "    <tr>\n",
              "      <th>6</th>\n",
              "      <td>source_ads_facebook</td>\n",
              "      <td>linear</td>\n",
              "      <td>3.372113e-01</td>\n",
              "      <td>1.000000</td>\n",
              "      <td>0.000000</td>\n",
              "    </tr>\n",
              "    <tr>\n",
              "      <th>41</th>\n",
              "      <td>operative_system_mac &gt; 0.5 &amp; long &lt;= -122.1450...</td>\n",
              "      <td>rule</td>\n",
              "      <td>2.485292e-01</td>\n",
              "      <td>0.003906</td>\n",
              "      <td>0.000000</td>\n",
              "    </tr>\n",
              "    <tr>\n",
              "      <th>63</th>\n",
              "      <td>source_friend_referral &gt; 0.5 &amp; weekday_Monday ...</td>\n",
              "      <td>rule</td>\n",
              "      <td>1.327725e-01</td>\n",
              "      <td>0.061983</td>\n",
              "      <td>0.000000</td>\n",
              "    </tr>\n",
              "    <tr>\n",
              "      <th>10</th>\n",
              "      <td>source_seo-bing</td>\n",
              "      <td>linear</td>\n",
              "      <td>5.343699e-02</td>\n",
              "      <td>1.000000</td>\n",
              "      <td>0.000000</td>\n",
              "    </tr>\n",
              "    <tr>\n",
              "      <th>14</th>\n",
              "      <td>source_seo_facebook</td>\n",
              "      <td>linear</td>\n",
              "      <td>2.402018e-02</td>\n",
              "      <td>1.000000</td>\n",
              "      <td>0.000000</td>\n",
              "    </tr>\n",
              "    <tr>\n",
              "      <th>23</th>\n",
              "      <td>weekday_Sunday</td>\n",
              "      <td>linear</td>\n",
              "      <td>5.365258e-03</td>\n",
              "      <td>1.000000</td>\n",
              "      <td>0.000000</td>\n",
              "    </tr>\n",
              "    <tr>\n",
              "      <th>33</th>\n",
              "      <td>source_friend_referral &gt; 0.5 &amp; yearweek &lt;= 10.5</td>\n",
              "      <td>rule</td>\n",
              "      <td>1.480074e-03</td>\n",
              "      <td>0.005118</td>\n",
              "      <td>0.000000</td>\n",
              "    </tr>\n",
              "    <tr>\n",
              "      <th>2</th>\n",
              "      <td>long</td>\n",
              "      <td>linear</td>\n",
              "      <td>9.496340e-04</td>\n",
              "      <td>1.000000</td>\n",
              "      <td>0.327020</td>\n",
              "    </tr>\n",
              "    <tr>\n",
              "      <th>0</th>\n",
              "      <td>user_id</td>\n",
              "      <td>linear</td>\n",
              "      <td>1.988943e-08</td>\n",
              "      <td>1.000000</td>\n",
              "      <td>0.133994</td>\n",
              "    </tr>\n",
              "    <tr>\n",
              "      <th>44</th>\n",
              "      <td>operative_system_linux &gt; 0.5 &amp; source_friend_r...</td>\n",
              "      <td>rule</td>\n",
              "      <td>-1.229651e-04</td>\n",
              "      <td>0.011759</td>\n",
              "      <td>0.000000</td>\n",
              "    </tr>\n",
              "    <tr>\n",
              "      <th>26</th>\n",
              "      <td>weekday_Wednesday</td>\n",
              "      <td>linear</td>\n",
              "      <td>-2.693417e-03</td>\n",
              "      <td>1.000000</td>\n",
              "      <td>0.000000</td>\n",
              "    </tr>\n",
              "    <tr>\n",
              "      <th>57</th>\n",
              "      <td>source_direct_traffic &lt;= 0.5 &amp; source_friend_r...</td>\n",
              "      <td>rule</td>\n",
              "      <td>-3.626104e-03</td>\n",
              "      <td>0.743757</td>\n",
              "      <td>0.000000</td>\n",
              "    </tr>\n",
              "    <tr>\n",
              "      <th>3</th>\n",
              "      <td>yearweek</td>\n",
              "      <td>linear</td>\n",
              "      <td>-3.678345e-03</td>\n",
              "      <td>1.000000</td>\n",
              "      <td>0.000000</td>\n",
              "    </tr>\n",
              "    <tr>\n",
              "      <th>1</th>\n",
              "      <td>lat</td>\n",
              "      <td>linear</td>\n",
              "      <td>-8.908117e-03</td>\n",
              "      <td>1.000000</td>\n",
              "      <td>0.265807</td>\n",
              "    </tr>\n",
              "    <tr>\n",
              "      <th>50</th>\n",
              "      <td>operative_system_windows &gt; 0.5 &amp; source_friend...</td>\n",
              "      <td>rule</td>\n",
              "      <td>-9.146045e-03</td>\n",
              "      <td>0.020241</td>\n",
              "      <td>0.000000</td>\n",
              "    </tr>\n",
              "    <tr>\n",
              "      <th>22</th>\n",
              "      <td>weekday_Saturday</td>\n",
              "      <td>linear</td>\n",
              "      <td>-1.039312e-02</td>\n",
              "      <td>1.000000</td>\n",
              "      <td>0.000000</td>\n",
              "    </tr>\n",
              "    <tr>\n",
              "      <th>7</th>\n",
              "      <td>source_ads_other</td>\n",
              "      <td>linear</td>\n",
              "      <td>-1.667619e-02</td>\n",
              "      <td>1.000000</td>\n",
              "      <td>0.000000</td>\n",
              "    </tr>\n",
              "    <tr>\n",
              "      <th>48</th>\n",
              "      <td>lat &gt; 25.795000076293945 &amp; operative_system_ot...</td>\n",
              "      <td>rule</td>\n",
              "      <td>-8.098486e-02</td>\n",
              "      <td>0.940831</td>\n",
              "      <td>0.000000</td>\n",
              "    </tr>\n",
              "    <tr>\n",
              "      <th>17</th>\n",
              "      <td>operative_system_linux</td>\n",
              "      <td>linear</td>\n",
              "      <td>-8.426443e-02</td>\n",
              "      <td>1.000000</td>\n",
              "      <td>0.000000</td>\n",
              "    </tr>\n",
              "    <tr>\n",
              "      <th>25</th>\n",
              "      <td>weekday_Tuesday</td>\n",
              "      <td>linear</td>\n",
              "      <td>-9.317982e-02</td>\n",
              "      <td>1.000000</td>\n",
              "      <td>0.000000</td>\n",
              "    </tr>\n",
              "    <tr>\n",
              "      <th>28</th>\n",
              "      <td>source_seo-google &lt;= 0.5 &amp; source_direct_traff...</td>\n",
              "      <td>rule</td>\n",
              "      <td>-1.067243e-01</td>\n",
              "      <td>0.736777</td>\n",
              "      <td>0.000000</td>\n",
              "    </tr>\n",
              "    <tr>\n",
              "      <th>19</th>\n",
              "      <td>operative_system_other</td>\n",
              "      <td>linear</td>\n",
              "      <td>-1.148516e-01</td>\n",
              "      <td>1.000000</td>\n",
              "      <td>0.000000</td>\n",
              "    </tr>\n",
              "    <tr>\n",
              "      <th>62</th>\n",
              "      <td>lat &gt; 33.89500045776367 &amp; operative_system_oth...</td>\n",
              "      <td>rule</td>\n",
              "      <td>-1.271038e-01</td>\n",
              "      <td>0.037235</td>\n",
              "      <td>0.000000</td>\n",
              "    </tr>\n",
              "    <tr>\n",
              "      <th>47</th>\n",
              "      <td>user_id &gt; 37702.5 &amp; source_direct_traffic &gt; 0.5</td>\n",
              "      <td>rule</td>\n",
              "      <td>-1.468418e-01</td>\n",
              "      <td>0.182938</td>\n",
              "      <td>0.000000</td>\n",
              "    </tr>\n",
              "    <tr>\n",
              "      <th>59</th>\n",
              "      <td>source_direct_traffic &gt; 0.5 &amp; user_id &lt;= 995526.5</td>\n",
              "      <td>rule</td>\n",
              "      <td>-1.694799e-01</td>\n",
              "      <td>0.190593</td>\n",
              "      <td>0.000000</td>\n",
              "    </tr>\n",
              "    <tr>\n",
              "      <th>27</th>\n",
              "      <td>operative_system_linux &lt;= 0.5 &amp; source_friend_...</td>\n",
              "      <td>rule</td>\n",
              "      <td>-1.710341e-01</td>\n",
              "      <td>0.922978</td>\n",
              "      <td>0.000000</td>\n",
              "    </tr>\n",
              "    <tr>\n",
              "      <th>39</th>\n",
              "      <td>source_friend_referral &gt; 0.5 &amp; operative_syste...</td>\n",
              "      <td>rule</td>\n",
              "      <td>-2.288459e-01</td>\n",
              "      <td>0.059315</td>\n",
              "      <td>0.000000</td>\n",
              "    </tr>\n",
              "    <tr>\n",
              "      <th>15</th>\n",
              "      <td>device_web</td>\n",
              "      <td>linear</td>\n",
              "      <td>-3.849814e-01</td>\n",
              "      <td>1.000000</td>\n",
              "      <td>0.000000</td>\n",
              "    </tr>\n",
              "    <tr>\n",
              "      <th>36</th>\n",
              "      <td>operative_system_windows &lt;= 0.5 &amp; user_id &gt; 20...</td>\n",
              "      <td>rule</td>\n",
              "      <td>-5.070242e-01</td>\n",
              "      <td>0.679958</td>\n",
              "      <td>0.000000</td>\n",
              "    </tr>\n",
              "    <tr>\n",
              "      <th>55</th>\n",
              "      <td>source_friend_referral &lt;= 0.5 &amp; operative_syst...</td>\n",
              "      <td>rule</td>\n",
              "      <td>-9.303831e-01</td>\n",
              "      <td>0.861553</td>\n",
              "      <td>0.000000</td>\n",
              "    </tr>\n",
              "  </tbody>\n",
              "</table>\n",
              "</div>\n",
              "      <button class=\"colab-df-convert\" onclick=\"convertToInteractive('df-3c72c95e-9c45-4dbe-9458-02cf22f5f607')\"\n",
              "              title=\"Convert this dataframe to an interactive table.\"\n",
              "              style=\"display:none;\">\n",
              "        \n",
              "  <svg xmlns=\"http://www.w3.org/2000/svg\" height=\"24px\"viewBox=\"0 0 24 24\"\n",
              "       width=\"24px\">\n",
              "    <path d=\"M0 0h24v24H0V0z\" fill=\"none\"/>\n",
              "    <path d=\"M18.56 5.44l.94 2.06.94-2.06 2.06-.94-2.06-.94-.94-2.06-.94 2.06-2.06.94zm-11 1L8.5 8.5l.94-2.06 2.06-.94-2.06-.94L8.5 2.5l-.94 2.06-2.06.94zm10 10l.94 2.06.94-2.06 2.06-.94-2.06-.94-.94-2.06-.94 2.06-2.06.94z\"/><path d=\"M17.41 7.96l-1.37-1.37c-.4-.4-.92-.59-1.43-.59-.52 0-1.04.2-1.43.59L10.3 9.45l-7.72 7.72c-.78.78-.78 2.05 0 2.83L4 21.41c.39.39.9.59 1.41.59.51 0 1.02-.2 1.41-.59l7.78-7.78 2.81-2.81c.8-.78.8-2.07 0-2.86zM5.41 20L4 18.59l7.72-7.72 1.47 1.35L5.41 20z\"/>\n",
              "  </svg>\n",
              "      </button>\n",
              "      \n",
              "  <style>\n",
              "    .colab-df-container {\n",
              "      display:flex;\n",
              "      flex-wrap:wrap;\n",
              "      gap: 12px;\n",
              "    }\n",
              "\n",
              "    .colab-df-convert {\n",
              "      background-color: #E8F0FE;\n",
              "      border: none;\n",
              "      border-radius: 50%;\n",
              "      cursor: pointer;\n",
              "      display: none;\n",
              "      fill: #1967D2;\n",
              "      height: 32px;\n",
              "      padding: 0 0 0 0;\n",
              "      width: 32px;\n",
              "    }\n",
              "\n",
              "    .colab-df-convert:hover {\n",
              "      background-color: #E2EBFA;\n",
              "      box-shadow: 0px 1px 2px rgba(60, 64, 67, 0.3), 0px 1px 3px 1px rgba(60, 64, 67, 0.15);\n",
              "      fill: #174EA6;\n",
              "    }\n",
              "\n",
              "    [theme=dark] .colab-df-convert {\n",
              "      background-color: #3B4455;\n",
              "      fill: #D2E3FC;\n",
              "    }\n",
              "\n",
              "    [theme=dark] .colab-df-convert:hover {\n",
              "      background-color: #434B5C;\n",
              "      box-shadow: 0px 1px 3px 1px rgba(0, 0, 0, 0.15);\n",
              "      filter: drop-shadow(0px 1px 2px rgba(0, 0, 0, 0.3));\n",
              "      fill: #FFFFFF;\n",
              "    }\n",
              "  </style>\n",
              "\n",
              "      <script>\n",
              "        const buttonEl =\n",
              "          document.querySelector('#df-3c72c95e-9c45-4dbe-9458-02cf22f5f607 button.colab-df-convert');\n",
              "        buttonEl.style.display =\n",
              "          google.colab.kernel.accessAllowed ? 'block' : 'none';\n",
              "\n",
              "        async function convertToInteractive(key) {\n",
              "          const element = document.querySelector('#df-3c72c95e-9c45-4dbe-9458-02cf22f5f607');\n",
              "          const dataTable =\n",
              "            await google.colab.kernel.invokeFunction('convertToInteractive',\n",
              "                                                     [key], {});\n",
              "          if (!dataTable) return;\n",
              "\n",
              "          const docLinkHtml = 'Like what you see? Visit the ' +\n",
              "            '<a target=\"_blank\" href=https://colab.research.google.com/notebooks/data_table.ipynb>data table notebook</a>'\n",
              "            + ' to learn more about interactive tables.';\n",
              "          element.innerHTML = '';\n",
              "          dataTable['output_type'] = 'display_data';\n",
              "          await google.colab.output.renderOutput(dataTable, element);\n",
              "          const docLink = document.createElement('div');\n",
              "          docLink.innerHTML = docLinkHtml;\n",
              "          element.appendChild(docLink);\n",
              "        }\n",
              "      </script>\n",
              "    </div>\n",
              "  </div>\n",
              "  "
            ],
            "text/plain": [
              "                                                 rule    type          coef   support  importance\n",
              "16                               operative_system_iOS  linear  3.980483e-01  1.000000    0.000000\n",
              "4                                   source_ads-google  linear  3.473104e-01  1.000000    0.000000\n",
              "6                                 source_ads_facebook  linear  3.372113e-01  1.000000    0.000000\n",
              "41  operative_system_mac > 0.5 & long <= -122.1450...    rule  2.485292e-01  0.003906    0.000000\n",
              "63  source_friend_referral > 0.5 & weekday_Monday ...    rule  1.327725e-01  0.061983    0.000000\n",
              "10                                    source_seo-bing  linear  5.343699e-02  1.000000    0.000000\n",
              "14                                source_seo_facebook  linear  2.402018e-02  1.000000    0.000000\n",
              "23                                     weekday_Sunday  linear  5.365258e-03  1.000000    0.000000\n",
              "33    source_friend_referral > 0.5 & yearweek <= 10.5    rule  1.480074e-03  0.005118    0.000000\n",
              "2                                                long  linear  9.496340e-04  1.000000    0.327020\n",
              "0                                             user_id  linear  1.988943e-08  1.000000    0.133994\n",
              "44  operative_system_linux > 0.5 & source_friend_r...    rule -1.229651e-04  0.011759    0.000000\n",
              "26                                  weekday_Wednesday  linear -2.693417e-03  1.000000    0.000000\n",
              "57  source_direct_traffic <= 0.5 & source_friend_r...    rule -3.626104e-03  0.743757    0.000000\n",
              "3                                            yearweek  linear -3.678345e-03  1.000000    0.000000\n",
              "1                                                 lat  linear -8.908117e-03  1.000000    0.265807\n",
              "50  operative_system_windows > 0.5 & source_friend...    rule -9.146045e-03  0.020241    0.000000\n",
              "22                                   weekday_Saturday  linear -1.039312e-02  1.000000    0.000000\n",
              "7                                    source_ads_other  linear -1.667619e-02  1.000000    0.000000\n",
              "48  lat > 25.795000076293945 & operative_system_ot...    rule -8.098486e-02  0.940831    0.000000\n",
              "17                             operative_system_linux  linear -8.426443e-02  1.000000    0.000000\n",
              "25                                    weekday_Tuesday  linear -9.317982e-02  1.000000    0.000000\n",
              "28  source_seo-google <= 0.5 & source_direct_traff...    rule -1.067243e-01  0.736777    0.000000\n",
              "19                             operative_system_other  linear -1.148516e-01  1.000000    0.000000\n",
              "62  lat > 33.89500045776367 & operative_system_oth...    rule -1.271038e-01  0.037235    0.000000\n",
              "47    user_id > 37702.5 & source_direct_traffic > 0.5    rule -1.468418e-01  0.182938    0.000000\n",
              "59  source_direct_traffic > 0.5 & user_id <= 995526.5    rule -1.694799e-01  0.190593    0.000000\n",
              "27  operative_system_linux <= 0.5 & source_friend_...    rule -1.710341e-01  0.922978    0.000000\n",
              "39  source_friend_referral > 0.5 & operative_syste...    rule -2.288459e-01  0.059315    0.000000\n",
              "15                                         device_web  linear -3.849814e-01  1.000000    0.000000\n",
              "36  operative_system_windows <= 0.5 & user_id > 20...    rule -5.070242e-01  0.679958    0.000000\n",
              "55  source_friend_referral <= 0.5 & operative_syst...    rule -9.303831e-01  0.861553    0.000000"
            ]
          },
          "metadata": {},
          "execution_count": 64
        }
      ]
    },
    {
      "cell_type": "markdown",
      "source": [
        "## General Insights\n",
        "\n",
        "\n",
        "*  operative_system_mac > 0.5 & long <= -122.14500045776367 is an interesting rule because of it's relationship to a geographic area. Because of the small volume of support (almost false for everyone) it makes me wonder if test traffic from california isn't being properly filtered out of the production dataset\n",
        "\n",
        "* user_id > 37702.5 & source_direct_traffic > 0.5  and  source_direct_traffic > 0.5 & user_id <= 995526.5 are interesting rules to me (somewhat large negative coefficients and between 0.18-0.19 support). If the user_id naming convention was sequential in this system, then this may indicate the quality of direct traffic suffered between users 37.7k - 995k. Perhaps these users saw a different onboarding flow experience.\n",
        "\n"
      ],
      "metadata": {
        "id": "PC0WEcIFemQi"
      }
    },
    {
      "cell_type": "markdown",
      "source": [
        "# Recommendations\n",
        "\n",
        "**Bottom line:** the source of friend_referral seems to be performing extremely well, and we should prioritize understanding the causal relationships that exist in this traffic source before moving onto optimizing sources further down the decision tree.\n",
        "\n",
        "1.  We should design a randomized test that validates whether source_friend_referral is a causal relationship to increasing conversions. \n",
        "\n",
        "2.  We should look at sementing our current users to see how the conversion performance of the referral link process varies by each user-segment. Perhaps there are some segments that are more impactful than others, and we can tailor our approach to increase volume through personalizing our messages to each segment.\n",
        "\n",
        "3.   We should prioritize ideation of campaigns where we incentivize current users to get their friends to join with an incentive before we look at simply increasing advertising volume spend. Ideally, until this source starts to level off in terms of incremental cost per conversion compared to other channels.\n",
        " \n",
        "\n",
        "\n"
      ],
      "metadata": {
        "id": "IbEXxfrsYHec"
      }
    }
  ]
}