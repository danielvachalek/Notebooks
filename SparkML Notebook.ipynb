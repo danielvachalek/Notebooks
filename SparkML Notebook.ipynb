{
  "nbformat": 4,
  "nbformat_minor": 0,
  "metadata": {
    "kernelspec": {
      "display_name": "PySpark",
      "language": "",
      "name": "pysparkkernel"
    },
    "language_info": {
      "codemirror_mode": {
        "name": "python",
        "version": 2
      },
      "mimetype": "text/x-python",
      "name": "pyspark",
      "pygments_lexer": "python2"
    },
    "colab": {
      "name": "ML1.ipynb",
      "provenance": [],
      "toc_visible": true
    }
  },
  "cells": [
    {
      "cell_type": "markdown",
      "metadata": {
        "id": "hAiUBzqB7Wdk"
      },
      "source": [
        "# General Info, Installing and Loading packages "
      ]
    },
    {
      "cell_type": "code",
      "metadata": {
        "id": "9unkccBI7Wdl",
        "outputId": "4e95b0f7-c285-4574-f5ab-50ff555f7e9c"
      },
      "source": [
        "%%info"
      ],
      "execution_count": null,
      "outputs": [
        {
          "data": {
            "text/html": [
              "Current session configs: <tt>{'conf': {'spark.pyspark.python': 'python3', 'spark.pyspark.virtualenv.enabled': 'true', 'spark.pyspark.virtualenv.type': 'native', 'spark.pyspark.virtualenv.bin.path': '/usr/bin/virtualenv'}, 'kind': 'pyspark'}</tt><br>"
            ],
            "text/plain": [
              "<IPython.core.display.HTML object>"
            ]
          },
          "metadata": {},
          "output_type": "display_data"
        },
        {
          "data": {
            "text/html": [
              "No active sessions."
            ],
            "text/plain": [
              "<IPython.core.display.HTML object>"
            ]
          },
          "metadata": {},
          "output_type": "display_data"
        }
      ]
    },
    {
      "cell_type": "code",
      "metadata": {
        "id": "35tAk6hD7Wdm",
        "outputId": "91dd0722-41a1-4795-8a99-786d0931c99c",
        "colab": {
          "referenced_widgets": [
            "3ce9054b961245bf9544ba8c19ef3710",
            ""
          ]
        }
      },
      "source": [
        "sc.list_packages()"
      ],
      "execution_count": null,
      "outputs": [
        {
          "data": {
            "application/vnd.jupyter.widget-view+json": {
              "model_id": "3ce9054b961245bf9544ba8c19ef3710",
              "version_major": 2,
              "version_minor": 0
            },
            "text/plain": [
              "VBox()"
            ]
          },
          "metadata": {},
          "output_type": "display_data"
        },
        {
          "name": "stdout",
          "output_type": "stream",
          "text": [
            "Starting Spark application\n"
          ]
        },
        {
          "data": {
            "text/html": [
              "<table>\n",
              "<tr><th>ID</th><th>YARN Application ID</th><th>Kind</th><th>State</th><th>Spark UI</th><th>Driver log</th><th>Current session?</th></tr><tr><td>0</td><td>application_1581382623432_0001</td><td>pyspark</td><td>idle</td><td><a target=\"_blank\" href=\"http://ip-172-31-39-214.ec2.internal:20888/proxy/application_1581382623432_0001/\">Link</a></td><td><a target=\"_blank\" href=\"http://ip-172-31-33-133.ec2.internal:8042/node/containerlogs/container_1581382623432_0001_01_000001/livy\">Link</a></td><td>✔</td></tr></table>"
            ],
            "text/plain": [
              "<IPython.core.display.HTML object>"
            ]
          },
          "metadata": {},
          "output_type": "display_data"
        },
        {
          "data": {
            "application/vnd.jupyter.widget-view+json": {
              "model_id": "",
              "version_major": 2,
              "version_minor": 0
            },
            "text/plain": [
              "FloatProgress(value=0.0, bar_style='info', description='Progress:', layout=Layout(height='25px', width='50%'),…"
            ]
          },
          "metadata": {},
          "output_type": "display_data"
        },
        {
          "name": "stdout",
          "output_type": "stream",
          "text": [
            "SparkSession available as 'spark'.\n"
          ]
        },
        {
          "data": {
            "application/vnd.jupyter.widget-view+json": {
              "model_id": "",
              "version_major": 2,
              "version_minor": 0
            },
            "text/plain": [
              "FloatProgress(value=0.0, bar_style='info', description='Progress:', layout=Layout(height='25px', width='50%'),…"
            ]
          },
          "metadata": {},
          "output_type": "display_data"
        },
        {
          "name": "stdout",
          "output_type": "stream",
          "text": [
            "Package                    Version\n",
            "-------------------------- -------\n",
            "absl-py                    0.8.1  \n",
            "astor                      0.8.0  \n",
            "beautifulsoup4             4.8.1  \n",
            "bleach                     3.1.0  \n",
            "boto                       2.49.0 \n",
            "funcsigs                   1.0.2  \n",
            "gast                       0.3.2  \n",
            "google-pasta               0.1.7  \n",
            "grpcio                     1.24.3 \n",
            "html5lib                   1.0.1  \n",
            "jmespath                   0.9.4  \n",
            "Keras-Applications         1.0.6  \n",
            "Keras-Preprocessing        1.0.5  \n",
            "lxml                       4.4.2  \n",
            "Markdown                   3.1.1  \n",
            "mysqlclient                1.4.6  \n",
            "nltk                       3.4.5  \n",
            "nose                       1.3.4  \n",
            "numpy                      1.14.5 \n",
            "pip                        20.0.2 \n",
            "protobuf                   3.10.0 \n",
            "py-dateutil                2.2    \n",
            "python36-sagemaker-pyspark 1.2.6  \n",
            "pytz                       2019.3 \n",
            "PyYAML                     3.11   \n",
            "setuptools                 45.2.0 \n",
            "six                        1.13.0 \n",
            "soupsieve                  1.9.5  \n",
            "tensorboard                1.14.0 \n",
            "tensorflow                 1.14.0 \n",
            "tensorflow-estimator       1.14.0 \n",
            "termcolor                  1.1.0  \n",
            "webencodings               0.5.1  \n",
            "Werkzeug                   0.16.0 \n",
            "wheel                      0.34.2 \n",
            "windmill                   1.6    \n",
            "wrapt                      1.11.2"
          ]
        }
      ]
    },
    {
      "cell_type": "code",
      "metadata": {
        "id": "KCbf6q4K7Wdn",
        "outputId": "5652cbb0-8cae-4a9f-d834-bf00f81df4e8",
        "colab": {
          "referenced_widgets": [
            "0eeaac2c6a1d4219affe75cb03c05235",
            ""
          ]
        }
      },
      "source": [
        "sc.install_pypi_package(\"pandas==0.25.1\") #Install pandas version 0.25.1 \n",
        "sc.install_pypi_package(\"matplotlib\", \"https://pypi.org/simple\") #Install matplotlib from given PyPI repository"
      ],
      "execution_count": null,
      "outputs": [
        {
          "data": {
            "application/vnd.jupyter.widget-view+json": {
              "model_id": "0eeaac2c6a1d4219affe75cb03c05235",
              "version_major": 2,
              "version_minor": 0
            },
            "text/plain": [
              "VBox()"
            ]
          },
          "metadata": {},
          "output_type": "display_data"
        },
        {
          "data": {
            "application/vnd.jupyter.widget-view+json": {
              "model_id": "",
              "version_major": 2,
              "version_minor": 0
            },
            "text/plain": [
              "FloatProgress(value=0.0, bar_style='info', description='Progress:', layout=Layout(height='25px', width='50%'),…"
            ]
          },
          "metadata": {},
          "output_type": "display_data"
        },
        {
          "name": "stdout",
          "output_type": "stream",
          "text": [
            "Collecting pandas==0.25.1\n",
            "  Downloading pandas-0.25.1-cp36-cp36m-manylinux1_x86_64.whl (10.5 MB)\n",
            "Collecting python-dateutil>=2.6.1\n",
            "  Downloading python_dateutil-2.8.1-py2.py3-none-any.whl (227 kB)\n",
            "Requirement already satisfied: numpy>=1.13.3 in /usr/local/lib64/python3.6/site-packages (from pandas==0.25.1) (1.14.5)\n",
            "Requirement already satisfied: pytz>=2017.2 in /usr/local/lib/python3.6/site-packages (from pandas==0.25.1) (2019.3)\n",
            "Requirement already satisfied: six>=1.5 in /usr/local/lib/python3.6/site-packages (from python-dateutil>=2.6.1->pandas==0.25.1) (1.13.0)\n",
            "Installing collected packages: python-dateutil, pandas\n",
            "Successfully installed pandas-0.25.1 python-dateutil-2.8.1\n",
            "\n",
            "Collecting matplotlib\n",
            "  Downloading matplotlib-3.1.3-cp36-cp36m-manylinux1_x86_64.whl (13.1 MB)\n",
            "Collecting pyparsing!=2.0.4,!=2.1.2,!=2.1.6,>=2.0.1\n",
            "  Downloading pyparsing-2.4.6-py2.py3-none-any.whl (67 kB)\n",
            "Requirement already satisfied: numpy>=1.11 in /usr/local/lib64/python3.6/site-packages (from matplotlib) (1.14.5)\n",
            "Requirement already satisfied: python-dateutil>=2.1 in /mnt/tmp/1581383089583-0/lib/python3.6/site-packages (from matplotlib) (2.8.1)\n",
            "Collecting kiwisolver>=1.0.1\n",
            "  Downloading kiwisolver-1.1.0-cp36-cp36m-manylinux1_x86_64.whl (90 kB)\n",
            "Collecting cycler>=0.10\n",
            "  Downloading cycler-0.10.0-py2.py3-none-any.whl (6.5 kB)\n",
            "Requirement already satisfied: six>=1.5 in /usr/local/lib/python3.6/site-packages (from python-dateutil>=2.1->matplotlib) (1.13.0)\n",
            "Requirement already satisfied: setuptools in /mnt/tmp/1581383089583-0/lib/python3.6/site-packages (from kiwisolver>=1.0.1->matplotlib) (45.2.0)\n",
            "Installing collected packages: pyparsing, kiwisolver, cycler, matplotlib\n",
            "Successfully installed cycler-0.10.0 kiwisolver-1.1.0 matplotlib-3.1.3 pyparsing-2.4.6"
          ]
        }
      ]
    },
    {
      "cell_type": "code",
      "metadata": {
        "id": "QkZo_JYi7Wdo",
        "outputId": "2770a5cb-64b7-4c50-9974-c8acdd8340b7",
        "colab": {
          "referenced_widgets": [
            "b3ae8a29c33c408b9f6132fc0c6927b2",
            ""
          ]
        }
      },
      "source": [
        "sc.list_packages()"
      ],
      "execution_count": null,
      "outputs": [
        {
          "data": {
            "application/vnd.jupyter.widget-view+json": {
              "model_id": "b3ae8a29c33c408b9f6132fc0c6927b2",
              "version_major": 2,
              "version_minor": 0
            },
            "text/plain": [
              "VBox()"
            ]
          },
          "metadata": {},
          "output_type": "display_data"
        },
        {
          "data": {
            "application/vnd.jupyter.widget-view+json": {
              "model_id": "",
              "version_major": 2,
              "version_minor": 0
            },
            "text/plain": [
              "FloatProgress(value=0.0, bar_style='info', description='Progress:', layout=Layout(height='25px', width='50%'),…"
            ]
          },
          "metadata": {},
          "output_type": "display_data"
        },
        {
          "name": "stdout",
          "output_type": "stream",
          "text": [
            "Package                    Version\n",
            "-------------------------- -------\n",
            "absl-py                    0.8.1  \n",
            "astor                      0.8.0  \n",
            "beautifulsoup4             4.8.1  \n",
            "bleach                     3.1.0  \n",
            "boto                       2.49.0 \n",
            "cycler                     0.10.0 \n",
            "funcsigs                   1.0.2  \n",
            "gast                       0.3.2  \n",
            "google-pasta               0.1.7  \n",
            "grpcio                     1.24.3 \n",
            "html5lib                   1.0.1  \n",
            "jmespath                   0.9.4  \n",
            "Keras-Applications         1.0.6  \n",
            "Keras-Preprocessing        1.0.5  \n",
            "kiwisolver                 1.1.0  \n",
            "lxml                       4.4.2  \n",
            "Markdown                   3.1.1  \n",
            "matplotlib                 3.1.3  \n",
            "mysqlclient                1.4.6  \n",
            "nltk                       3.4.5  \n",
            "nose                       1.3.4  \n",
            "numpy                      1.14.5 \n",
            "pandas                     0.25.1 \n",
            "pip                        20.0.2 \n",
            "protobuf                   3.10.0 \n",
            "py-dateutil                2.2    \n",
            "pyparsing                  2.4.6  \n",
            "python-dateutil            2.8.1  \n",
            "python36-sagemaker-pyspark 1.2.6  \n",
            "pytz                       2019.3 \n",
            "PyYAML                     3.11   \n",
            "setuptools                 45.2.0 \n",
            "six                        1.13.0 \n",
            "soupsieve                  1.9.5  \n",
            "tensorboard                1.14.0 \n",
            "tensorflow                 1.14.0 \n",
            "tensorflow-estimator       1.14.0 \n",
            "termcolor                  1.1.0  \n",
            "webencodings               0.5.1  \n",
            "Werkzeug                   0.16.0 \n",
            "wheel                      0.34.2 \n",
            "windmill                   1.6    \n",
            "wrapt                      1.11.2"
          ]
        }
      ]
    },
    {
      "cell_type": "code",
      "metadata": {
        "id": "e_3eueoY7Wdo",
        "outputId": "07f6378f-8fb5-4529-9d5a-f588bad0b6e6",
        "colab": {
          "referenced_widgets": [
            "de8a5b6c009d4bd6b6805fe1ab74a9b5",
            ""
          ]
        }
      },
      "source": [
        "sc.install_pypi_package(\"keras==2.3.1\")"
      ],
      "execution_count": null,
      "outputs": [
        {
          "data": {
            "application/vnd.jupyter.widget-view+json": {
              "model_id": "de8a5b6c009d4bd6b6805fe1ab74a9b5",
              "version_major": 2,
              "version_minor": 0
            },
            "text/plain": [
              "VBox()"
            ]
          },
          "metadata": {},
          "output_type": "display_data"
        },
        {
          "data": {
            "application/vnd.jupyter.widget-view+json": {
              "model_id": "",
              "version_major": 2,
              "version_minor": 0
            },
            "text/plain": [
              "FloatProgress(value=0.0, bar_style='info', description='Progress:', layout=Layout(height='25px', width='50%'),…"
            ]
          },
          "metadata": {},
          "output_type": "display_data"
        },
        {
          "name": "stdout",
          "output_type": "stream",
          "text": [
            "Collecting keras==2.3.1\n",
            "  Downloading Keras-2.3.1-py2.py3-none-any.whl (377 kB)\n",
            "Requirement already satisfied: six>=1.9.0 in /usr/local/lib/python3.6/site-packages (from keras==2.3.1) (1.13.0)\n",
            "Requirement already satisfied: pyyaml in /usr/local/lib64/python3.6/site-packages (from keras==2.3.1) (3.11)\n",
            "Requirement already satisfied: keras-preprocessing>=1.0.5 in /usr/local/lib64/python3.6/site-packages (from keras==2.3.1) (1.0.5)\n",
            "Requirement already satisfied: numpy>=1.9.1 in /usr/local/lib64/python3.6/site-packages (from keras==2.3.1) (1.14.5)\n",
            "Collecting scipy>=0.14\n",
            "  Downloading scipy-1.4.1-cp36-cp36m-manylinux1_x86_64.whl (26.1 MB)\n",
            "Requirement already satisfied: keras-applications>=1.0.6 in /usr/local/lib64/python3.6/site-packages (from keras==2.3.1) (1.0.6)\n",
            "Collecting h5py\n",
            "  Downloading h5py-2.10.0-cp36-cp36m-manylinux1_x86_64.whl (2.9 MB)\n",
            "Installing collected packages: scipy, h5py, keras\n",
            "Successfully installed h5py-2.10.0 keras-2.3.1 scipy-1.4.1"
          ]
        }
      ]
    },
    {
      "cell_type": "code",
      "metadata": {
        "id": "-YfQaY5c7Wdp",
        "outputId": "84afeafc-e77f-44bc-ac0b-e9ff966ef752",
        "colab": {
          "referenced_widgets": [
            "b0105dfbe8cc4ab1baf97e73920a9522",
            ""
          ]
        }
      },
      "source": [
        "from pyspark.ml import Pipeline\n",
        "from pyspark.ml.feature import IndexToString, StringIndexer, VectorIndexer,VectorAssembler, VectorIndexer \n",
        "from pyspark.ml.feature import  StringIndexer, OneHotEncoder\n",
        "from pyspark.ml.tuning import CrossValidator, ParamGridBuilder, CrossValidatorModel\n",
        "from pyspark.ml.evaluation import MulticlassClassificationEvaluator"
      ],
      "execution_count": null,
      "outputs": [
        {
          "data": {
            "application/vnd.jupyter.widget-view+json": {
              "model_id": "b0105dfbe8cc4ab1baf97e73920a9522",
              "version_major": 2,
              "version_minor": 0
            },
            "text/plain": [
              "VBox()"
            ]
          },
          "metadata": {},
          "output_type": "display_data"
        },
        {
          "data": {
            "application/vnd.jupyter.widget-view+json": {
              "model_id": "",
              "version_major": 2,
              "version_minor": 0
            },
            "text/plain": [
              "FloatProgress(value=0.0, bar_style='info', description='Progress:', layout=Layout(height='25px', width='50%'),…"
            ]
          },
          "metadata": {},
          "output_type": "display_data"
        }
      ]
    },
    {
      "cell_type": "code",
      "metadata": {
        "id": "r_6_ZDft7Wdp",
        "outputId": "f6e4b135-4546-4e74-d637-f4c66dc419c5",
        "colab": {
          "referenced_widgets": [
            "cc980147ae1e4f0eb853010ae5a6b38e",
            ""
          ]
        }
      },
      "source": [
        "from pyspark.sql.types import StringType\n",
        "from pyspark.sql.functions import col, mean, min, max\n",
        "from pyspark.sql import functions as F  \n",
        "from pyspark.sql import Window\n",
        "\n"
      ],
      "execution_count": null,
      "outputs": [
        {
          "data": {
            "application/vnd.jupyter.widget-view+json": {
              "model_id": "cc980147ae1e4f0eb853010ae5a6b38e",
              "version_major": 2,
              "version_minor": 0
            },
            "text/plain": [
              "VBox()"
            ]
          },
          "metadata": {},
          "output_type": "display_data"
        },
        {
          "data": {
            "application/vnd.jupyter.widget-view+json": {
              "model_id": "",
              "version_major": 2,
              "version_minor": 0
            },
            "text/plain": [
              "FloatProgress(value=0.0, bar_style='info', description='Progress:', layout=Layout(height='25px', width='50%'),…"
            ]
          },
          "metadata": {},
          "output_type": "display_data"
        }
      ]
    },
    {
      "cell_type": "markdown",
      "metadata": {
        "id": "MT0VPMlO7Wdq"
      },
      "source": [
        "# Load the data"
      ]
    },
    {
      "cell_type": "code",
      "metadata": {
        "id": "v9qM3ZOe7Wdq"
      },
      "source": [
        ""
      ],
      "execution_count": null,
      "outputs": []
    },
    {
      "cell_type": "code",
      "metadata": {
        "id": "LLlVwz2U7Wdr",
        "outputId": "ff8bacfb-cc46-4ba1-d242-4b5c55161eaa",
        "colab": {
          "referenced_widgets": [
            "e03520becb22423bb295b61ac31cddfe",
            ""
          ]
        }
      },
      "source": [
        "df = spark.read.format(\"csv\").option(\"header\",\"true\").load('s3://bigdataclass2/adult.csv')"
      ],
      "execution_count": null,
      "outputs": [
        {
          "data": {
            "application/vnd.jupyter.widget-view+json": {
              "model_id": "e03520becb22423bb295b61ac31cddfe",
              "version_major": 2,
              "version_minor": 0
            },
            "text/plain": [
              "VBox()"
            ]
          },
          "metadata": {},
          "output_type": "display_data"
        },
        {
          "data": {
            "application/vnd.jupyter.widget-view+json": {
              "model_id": "",
              "version_major": 2,
              "version_minor": 0
            },
            "text/plain": [
              "FloatProgress(value=0.0, bar_style='info', description='Progress:', layout=Layout(height='25px', width='50%'),…"
            ]
          },
          "metadata": {},
          "output_type": "display_data"
        }
      ]
    },
    {
      "cell_type": "code",
      "metadata": {
        "id": "Wc9nefQ07Wdr",
        "outputId": "001481bf-9967-4024-bead-8555c91bd356",
        "colab": {
          "referenced_widgets": [
            "8428736b84d64c608616e4e67c8a8bf4",
            ""
          ]
        }
      },
      "source": [
        "df.count(), df.columns"
      ],
      "execution_count": null,
      "outputs": [
        {
          "data": {
            "application/vnd.jupyter.widget-view+json": {
              "model_id": "8428736b84d64c608616e4e67c8a8bf4",
              "version_major": 2,
              "version_minor": 0
            },
            "text/plain": [
              "VBox()"
            ]
          },
          "metadata": {},
          "output_type": "display_data"
        },
        {
          "data": {
            "application/vnd.jupyter.widget-view+json": {
              "model_id": "",
              "version_major": 2,
              "version_minor": 0
            },
            "text/plain": [
              "FloatProgress(value=0.0, bar_style='info', description='Progress:', layout=Layout(height='25px', width='50%'),…"
            ]
          },
          "metadata": {},
          "output_type": "display_data"
        },
        {
          "name": "stdout",
          "output_type": "stream",
          "text": [
            "(32561, ['Age', 'workclass', 'fnlwgt', 'education', 'education-num', 'marital-status', 'occupation', 'relationship', 'race', 'sex', 'capital-gain', 'capital-loss', 'hours-per-week', 'native-country', 'Income'])"
          ]
        }
      ]
    },
    {
      "cell_type": "markdown",
      "metadata": {
        "id": "a8IZxbhS7Wdr"
      },
      "source": [
        "# Exploratory Data Analysis"
      ]
    },
    {
      "cell_type": "code",
      "metadata": {
        "id": "StAaEJ-G7Wds",
        "outputId": "ac2dc0e2-e555-40ae-8134-5dc9eefcf283",
        "colab": {
          "referenced_widgets": [
            "6d732293e7124ad181237d4192b206ea",
            ""
          ]
        }
      },
      "source": [
        "df.select(['Age', 'workclass', 'education-num', 'hours-per-week', 'capital-gain', 'race'])\n",
        "        .describe()\n",
        "        .show()"
      ],
      "execution_count": null,
      "outputs": [
        {
          "data": {
            "application/vnd.jupyter.widget-view+json": {
              "model_id": "6d732293e7124ad181237d4192b206ea",
              "version_major": 2,
              "version_minor": 0
            },
            "text/plain": [
              "VBox()"
            ]
          },
          "metadata": {},
          "output_type": "display_data"
        },
        {
          "data": {
            "application/vnd.jupyter.widget-view+json": {
              "model_id": "",
              "version_major": 2,
              "version_minor": 0
            },
            "text/plain": [
              "FloatProgress(value=0.0, bar_style='info', description='Progress:', layout=Layout(height='25px', width='50%'),…"
            ]
          },
          "metadata": {},
          "output_type": "display_data"
        },
        {
          "name": "stdout",
          "output_type": "stream",
          "text": [
            "+-------+------------------+------------+-----------------+------------------+------------------+-------------------+\n",
            "|summary|               Age|   workclass|    education-num|    hours-per-week|      capital-gain|               race|\n",
            "+-------+------------------+------------+-----------------+------------------+------------------+-------------------+\n",
            "|  count|             32561|       32561|            32561|             32561|             32561|              32561|\n",
            "|   mean| 38.58164675532078|        null| 10.0806793403151|40.437455852092995|1077.6488437087312|               null|\n",
            "| stddev|13.640432553581356|        null|2.572720332067397|12.347428681731838| 7385.292084840354|               null|\n",
            "|    min|                17|           ?|                1|                 1|                 0| Amer-Indian-Eskimo|\n",
            "|    max|                90| Without-pay|                9|                99|             99999|              White|\n",
            "+-------+------------------+------------+-----------------+------------------+------------------+-------------------+"
          ]
        }
      ]
    },
    {
      "cell_type": "code",
      "metadata": {
        "id": "_ev23zlA7Wds",
        "outputId": "c73b83e0-e3b1-4417-bcbf-14bea3909ede",
        "colab": {
          "referenced_widgets": [
            "7c3ec12eb42b44218bb40199889ab687",
            ""
          ]
        }
      },
      "source": [
        "top_workclass = df.groupBy('workclass') \\\n",
        "                       .count().orderBy('count', ascending=False) \\\n",
        "                       .limit(20)"
      ],
      "execution_count": null,
      "outputs": [
        {
          "data": {
            "application/vnd.jupyter.widget-view+json": {
              "model_id": "7c3ec12eb42b44218bb40199889ab687",
              "version_major": 2,
              "version_minor": 0
            },
            "text/plain": [
              "VBox()"
            ]
          },
          "metadata": {},
          "output_type": "display_data"
        },
        {
          "data": {
            "application/vnd.jupyter.widget-view+json": {
              "model_id": "",
              "version_major": 2,
              "version_minor": 0
            },
            "text/plain": [
              "FloatProgress(value=0.0, bar_style='info', description='Progress:', layout=Layout(height='25px', width='50%'),…"
            ]
          },
          "metadata": {},
          "output_type": "display_data"
        }
      ]
    },
    {
      "cell_type": "code",
      "metadata": {
        "id": "3v7ypfXm7Wdt",
        "outputId": "2b2aef73-6f25-4908-b310-3d94070fff50",
        "colab": {
          "referenced_widgets": [
            "d580af7e282348f38f34868a632b9482",
            ""
          ]
        }
      },
      "source": [
        "top_workclass.show()"
      ],
      "execution_count": null,
      "outputs": [
        {
          "data": {
            "application/vnd.jupyter.widget-view+json": {
              "model_id": "d580af7e282348f38f34868a632b9482",
              "version_major": 2,
              "version_minor": 0
            },
            "text/plain": [
              "VBox()"
            ]
          },
          "metadata": {},
          "output_type": "display_data"
        },
        {
          "data": {
            "application/vnd.jupyter.widget-view+json": {
              "model_id": "",
              "version_major": 2,
              "version_minor": 0
            },
            "text/plain": [
              "FloatProgress(value=0.0, bar_style='info', description='Progress:', layout=Layout(height='25px', width='50%'),…"
            ]
          },
          "metadata": {},
          "output_type": "display_data"
        },
        {
          "name": "stdout",
          "output_type": "stream",
          "text": [
            "+-----------------+-----+\n",
            "|        workclass|count|\n",
            "+-----------------+-----+\n",
            "|          Private|22696|\n",
            "| Self-emp-not-inc| 2541|\n",
            "|        Local-gov| 2093|\n",
            "|                ?| 1836|\n",
            "|        State-gov| 1298|\n",
            "|     Self-emp-inc| 1116|\n",
            "|      Federal-gov|  960|\n",
            "|      Without-pay|   14|\n",
            "|     Never-worked|    7|\n",
            "+-----------------+-----+"
          ]
        }
      ]
    },
    {
      "cell_type": "code",
      "metadata": {
        "id": "EmACtCg87Wdt",
        "outputId": "fe506b63-4280-4d89-d3f8-72cbd3915a43",
        "colab": {
          "referenced_widgets": [
            "384606979e98411d9d3cf2e3d8e366d8",
            ""
          ]
        }
      },
      "source": [
        "top_work = df.groupBy('workclass', 'sex') \\\n",
        "           .count().join(top_workclass, ['workclass'], 'leftsemi') \\\n",
        "           .orderBy('count', ascending=False) \n",
        "top_work.show(truncate=False)"
      ],
      "execution_count": null,
      "outputs": [
        {
          "data": {
            "application/vnd.jupyter.widget-view+json": {
              "model_id": "384606979e98411d9d3cf2e3d8e366d8",
              "version_major": 2,
              "version_minor": 0
            },
            "text/plain": [
              "VBox()"
            ]
          },
          "metadata": {},
          "output_type": "display_data"
        },
        {
          "data": {
            "application/vnd.jupyter.widget-view+json": {
              "model_id": "",
              "version_major": 2,
              "version_minor": 0
            },
            "text/plain": [
              "FloatProgress(value=0.0, bar_style='info', description='Progress:', layout=Layout(height='25px', width='50%'),…"
            ]
          },
          "metadata": {},
          "output_type": "display_data"
        },
        {
          "name": "stdout",
          "output_type": "stream",
          "text": [
            "+-----------------+-------+-----+\n",
            "|workclass        |sex    |count|\n",
            "+-----------------+-------+-----+\n",
            "| Private         | Male  |14944|\n",
            "| Private         | Female|7752 |\n",
            "| Self-emp-not-inc| Male  |2142 |\n",
            "| Local-gov       | Male  |1258 |\n",
            "| ?               | Male  |997  |\n",
            "| Self-emp-inc    | Male  |981  |\n",
            "| ?               | Female|839  |\n",
            "| Local-gov       | Female|835  |\n",
            "| State-gov       | Male  |809  |\n",
            "| Federal-gov     | Male  |645  |\n",
            "| State-gov       | Female|489  |\n",
            "| Self-emp-not-inc| Female|399  |\n",
            "| Federal-gov     | Female|315  |\n",
            "| Self-emp-inc    | Female|135  |\n",
            "| Without-pay     | Male  |9    |\n",
            "| Without-pay     | Female|5    |\n",
            "| Never-worked    | Male  |5    |\n",
            "| Never-worked    | Female|2    |\n",
            "+-----------------+-------+-----+"
          ]
        }
      ]
    },
    {
      "cell_type": "markdown",
      "metadata": {
        "id": "9N8x3Rlt7Wdt"
      },
      "source": [
        "### Using windows function"
      ]
    },
    {
      "cell_type": "code",
      "metadata": {
        "id": "Ikmtjx8n7Wdu",
        "outputId": "67646bd1-3227-4ad2-d899-06f726626d8f",
        "colab": {
          "referenced_widgets": [
            "6f8f6a3926c1472d9a5f8a94b5d8a2dd",
            ""
          ]
        }
      },
      "source": [
        "from pyspark.sql import Row\n",
        "\n",
        "row = Row(\"Customer_id\", \"Day\", \"Purchases\")\n",
        "df5 = sc.parallelize([\n",
        "    row(1, \"2020-01-01\", 20.0),\n",
        "    row(1, \"2020-01-06\", 10.0),\n",
        "    row(1, \"2020-01-09\", 25.0),\n",
        "    row(1, \"2020-01-22\", 100.0),\n",
        "    row(2, \"2020-01-01\", 5.0),\n",
        "    row(2, \"2020-01-03\", 40.0),\n",
        "    row(2, \"2020-02-11\", 20.0),\n",
        "    row(3, \"2020-01-01\", 60.0), row(3, \"2020-01-02\", 100.50), row(3, \"2020-01-04\", 15.0), row(3, \"2020-01-06\", 15.0),\n",
        "]).toDF().withColumn(\"Day\", col(\"Day\").cast(\"date\"))\n",
        "\n",
        "df5.show()"
      ],
      "execution_count": null,
      "outputs": [
        {
          "data": {
            "application/vnd.jupyter.widget-view+json": {
              "model_id": "6f8f6a3926c1472d9a5f8a94b5d8a2dd",
              "version_major": 2,
              "version_minor": 0
            },
            "text/plain": [
              "VBox()"
            ]
          },
          "metadata": {},
          "output_type": "display_data"
        },
        {
          "data": {
            "application/vnd.jupyter.widget-view+json": {
              "model_id": "",
              "version_major": 2,
              "version_minor": 0
            },
            "text/plain": [
              "FloatProgress(value=0.0, bar_style='info', description='Progress:', layout=Layout(height='25px', width='50%'),…"
            ]
          },
          "metadata": {},
          "output_type": "display_data"
        },
        {
          "name": "stdout",
          "output_type": "stream",
          "text": [
            "+-----------+----------+---------+\n",
            "|Customer_id|       Day|Purchases|\n",
            "+-----------+----------+---------+\n",
            "|          1|2020-01-01|     20.0|\n",
            "|          1|2020-01-06|     10.0|\n",
            "|          1|2020-01-09|     25.0|\n",
            "|          1|2020-01-22|    100.0|\n",
            "|          2|2020-01-01|      5.0|\n",
            "|          2|2020-01-03|     40.0|\n",
            "|          2|2020-02-11|     20.0|\n",
            "|          3|2020-01-01|     60.0|\n",
            "|          3|2020-01-02|    100.5|\n",
            "|          3|2020-01-04|     15.0|\n",
            "|          3|2020-01-06|     15.0|\n",
            "+-----------+----------+---------+"
          ]
        }
      ]
    },
    {
      "cell_type": "code",
      "metadata": {
        "id": "6YULEp467Wdv",
        "outputId": "476165a4-9ad8-4bec-9464-f409e929979e",
        "colab": {
          "referenced_widgets": [
            "a66b50fb56ab4296a7092939c016731b",
            ""
          ]
        }
      },
      "source": [
        "days = lambda i: i * 86400"
      ],
      "execution_count": null,
      "outputs": [
        {
          "data": {
            "application/vnd.jupyter.widget-view+json": {
              "model_id": "a66b50fb56ab4296a7092939c016731b",
              "version_major": 2,
              "version_minor": 0
            },
            "text/plain": [
              "VBox()"
            ]
          },
          "metadata": {},
          "output_type": "display_data"
        },
        {
          "data": {
            "application/vnd.jupyter.widget-view+json": {
              "model_id": "",
              "version_major": 2,
              "version_minor": 0
            },
            "text/plain": [
              "FloatProgress(value=0.0, bar_style='info', description='Progress:', layout=Layout(height='25px', width='50%'),…"
            ]
          },
          "metadata": {},
          "output_type": "display_data"
        }
      ]
    },
    {
      "cell_type": "code",
      "metadata": {
        "id": "IT8h7JPZ7Wdv",
        "outputId": "acbf0737-aecc-448a-a224-1a59097d4c85",
        "colab": {
          "referenced_widgets": [
            "555a2acaeea4402293914b864dc12812",
            ""
          ]
        }
      },
      "source": [
        "windows = (Window()\n",
        "   .partitionBy(F.col(\"Customer_id\"))\n",
        "   .orderBy(col(\"Day\").cast(\"timestamp\").cast(\"long\"))\n",
        "   .rangeBetween(-days(7), 0))"
      ],
      "execution_count": null,
      "outputs": [
        {
          "data": {
            "application/vnd.jupyter.widget-view+json": {
              "model_id": "555a2acaeea4402293914b864dc12812",
              "version_major": 2,
              "version_minor": 0
            },
            "text/plain": [
              "VBox()"
            ]
          },
          "metadata": {},
          "output_type": "display_data"
        },
        {
          "data": {
            "application/vnd.jupyter.widget-view+json": {
              "model_id": "",
              "version_major": 2,
              "version_minor": 0
            },
            "text/plain": [
              "FloatProgress(value=0.0, bar_style='info', description='Progress:', layout=Layout(height='25px', width='50%'),…"
            ]
          },
          "metadata": {},
          "output_type": "display_data"
        }
      ]
    },
    {
      "cell_type": "code",
      "metadata": {
        "id": "DYs4TFp67Wdv",
        "outputId": "602e6218-a125-463a-e25d-121a7a58ffa7",
        "colab": {
          "referenced_widgets": [
            "76773da504b14d40805f6f2ac351fae7",
            ""
          ]
        }
      },
      "source": [
        "df5.withColumn(\"Purchase_List\", F.collect_list(\"Purchases\").over(windows)\n",
        "              ).select(F.col(\"*\"), F.mean(\"Purchases\").over(windows).alias(\"mean Purchases\")).show(truncate=False)"
      ],
      "execution_count": null,
      "outputs": [
        {
          "data": {
            "application/vnd.jupyter.widget-view+json": {
              "model_id": "76773da504b14d40805f6f2ac351fae7",
              "version_major": 2,
              "version_minor": 0
            },
            "text/plain": [
              "VBox()"
            ]
          },
          "metadata": {},
          "output_type": "display_data"
        },
        {
          "data": {
            "application/vnd.jupyter.widget-view+json": {
              "model_id": "",
              "version_major": 2,
              "version_minor": 0
            },
            "text/plain": [
              "FloatProgress(value=0.0, bar_style='info', description='Progress:', layout=Layout(height='25px', width='50%'),…"
            ]
          },
          "metadata": {},
          "output_type": "display_data"
        },
        {
          "name": "stdout",
          "output_type": "stream",
          "text": [
            "+-----------+----------+---------+-------------------------+--------------+\n",
            "|Customer_id|Day       |Purchases|Purchase_List            |mean Purchases|\n",
            "+-----------+----------+---------+-------------------------+--------------+\n",
            "|1          |2020-01-01|20.0     |[20.0]                   |20.0          |\n",
            "|1          |2020-01-06|10.0     |[20.0, 10.0]             |15.0          |\n",
            "|1          |2020-01-09|25.0     |[10.0, 25.0]             |17.5          |\n",
            "|1          |2020-01-22|100.0    |[100.0]                  |100.0         |\n",
            "|3          |2020-01-01|60.0     |[60.0]                   |60.0          |\n",
            "|3          |2020-01-02|100.5    |[60.0, 100.5]            |80.25         |\n",
            "|3          |2020-01-04|15.0     |[60.0, 100.5, 15.0]      |58.5          |\n",
            "|3          |2020-01-06|15.0     |[60.0, 100.5, 15.0, 15.0]|47.625        |\n",
            "|2          |2020-01-01|5.0      |[5.0]                    |5.0           |\n",
            "|2          |2020-01-03|40.0     |[5.0, 40.0]              |22.5          |\n",
            "|2          |2020-02-11|20.0     |[20.0]                   |20.0          |\n",
            "+-----------+----------+---------+-------------------------+--------------+"
          ]
        }
      ]
    },
    {
      "cell_type": "code",
      "metadata": {
        "id": "4tjS8esR7Wdw",
        "outputId": "99c2a66f-e93c-4f00-cbc5-1b4aa1a099eb",
        "colab": {
          "referenced_widgets": [
            "afa3d84a5c51481ab97b25794c130a2a",
            ""
          ]
        }
      },
      "source": [
        "df.columns"
      ],
      "execution_count": null,
      "outputs": [
        {
          "data": {
            "application/vnd.jupyter.widget-view+json": {
              "model_id": "afa3d84a5c51481ab97b25794c130a2a",
              "version_major": 2,
              "version_minor": 0
            },
            "text/plain": [
              "VBox()"
            ]
          },
          "metadata": {},
          "output_type": "display_data"
        },
        {
          "data": {
            "application/vnd.jupyter.widget-view+json": {
              "model_id": "",
              "version_major": 2,
              "version_minor": 0
            },
            "text/plain": [
              "FloatProgress(value=0.0, bar_style='info', description='Progress:', layout=Layout(height='25px', width='50%'),…"
            ]
          },
          "metadata": {},
          "output_type": "display_data"
        },
        {
          "name": "stdout",
          "output_type": "stream",
          "text": [
            "['Age', 'workclass', 'fnlwgt', 'education', 'education-num', 'marital-status', 'occupation', 'relationship', 'race', 'sex', 'capital-gain', 'capital-loss', 'hours-per-week', 'native-country', 'Income']"
          ]
        }
      ]
    },
    {
      "cell_type": "code",
      "metadata": {
        "id": "NmKeNIFR7Wdw",
        "outputId": "1df4fec4-f53e-4cbe-c97e-cf72344cfbf4",
        "colab": {
          "referenced_widgets": [
            "19a948b334654cea9fe1a490f4ec8bd9",
            ""
          ]
        }
      },
      "source": [
        "# \n",
        "nums = df.groupBy(['race', 'sex']).count().orderBy('race').toPandas()\n",
        "\n"
      ],
      "execution_count": null,
      "outputs": [
        {
          "data": {
            "application/vnd.jupyter.widget-view+json": {
              "model_id": "19a948b334654cea9fe1a490f4ec8bd9",
              "version_major": 2,
              "version_minor": 0
            },
            "text/plain": [
              "VBox()"
            ]
          },
          "metadata": {},
          "output_type": "display_data"
        },
        {
          "data": {
            "application/vnd.jupyter.widget-view+json": {
              "model_id": "",
              "version_major": 2,
              "version_minor": 0
            },
            "text/plain": [
              "FloatProgress(value=0.0, bar_style='info', description='Progress:', layout=Layout(height='25px', width='50%'),…"
            ]
          },
          "metadata": {},
          "output_type": "display_data"
        }
      ]
    },
    {
      "cell_type": "code",
      "metadata": {
        "id": "z4SFoGom7Wdw",
        "outputId": "341abe88-2312-4488-c84c-642b31138342",
        "colab": {
          "referenced_widgets": [
            "9b83b89eb3af43f89f33db6adfde6938",
            ""
          ]
        }
      },
      "source": [
        "nums"
      ],
      "execution_count": null,
      "outputs": [
        {
          "data": {
            "application/vnd.jupyter.widget-view+json": {
              "model_id": "9b83b89eb3af43f89f33db6adfde6938",
              "version_major": 2,
              "version_minor": 0
            },
            "text/plain": [
              "VBox()"
            ]
          },
          "metadata": {},
          "output_type": "display_data"
        },
        {
          "data": {
            "application/vnd.jupyter.widget-view+json": {
              "model_id": "",
              "version_major": 2,
              "version_minor": 0
            },
            "text/plain": [
              "FloatProgress(value=0.0, bar_style='info', description='Progress:', layout=Layout(height='25px', width='50%'),…"
            ]
          },
          "metadata": {},
          "output_type": "display_data"
        },
        {
          "name": "stdout",
          "output_type": "stream",
          "text": [
            "                  race      sex  count\n",
            "0   Amer-Indian-Eskimo   Female    119\n",
            "1   Amer-Indian-Eskimo     Male    192\n",
            "2   Asian-Pac-Islander     Male    693\n",
            "3   Asian-Pac-Islander   Female    346\n",
            "4                Black   Female   1555\n",
            "5                Black     Male   1569\n",
            "6                Other   Female    109\n",
            "7                Other     Male    162\n",
            "8                White     Male  19174\n",
            "9                White   Female   8642"
          ]
        }
      ]
    },
    {
      "cell_type": "code",
      "metadata": {
        "id": "FgKX-yBj7Wdx",
        "outputId": "b77301cc-014a-4479-c010-e5d4704a4188",
        "colab": {
          "referenced_widgets": [
            "57122684c25e4b0d96bd182c5d39a346",
            ""
          ]
        }
      },
      "source": [
        "import matplotlib.pyplot as plt\n",
        "#plt.clf()\n",
        "nums.plot.barh(stacked=False, x='race',y='count', figsize=(14,6), legend = None)\n",
        "#plt.xticks(nums['count'])\n",
        "plt.xlim(0, 20000)\n",
        "plt.title('Counts per Race by Gender')\n",
        "plt.xlabel('Count')\n",
        "plt.ylabel('Race/Gender')\n",
        "plt.show()"
      ],
      "execution_count": null,
      "outputs": [
        {
          "data": {
            "application/vnd.jupyter.widget-view+json": {
              "model_id": "57122684c25e4b0d96bd182c5d39a346",
              "version_major": 2,
              "version_minor": 0
            },
            "text/plain": [
              "VBox()"
            ]
          },
          "metadata": {},
          "output_type": "display_data"
        },
        {
          "data": {
            "application/vnd.jupyter.widget-view+json": {
              "model_id": "",
              "version_major": 2,
              "version_minor": 0
            },
            "text/plain": [
              "FloatProgress(value=0.0, bar_style='info', description='Progress:', layout=Layout(height='25px', width='50%'),…"
            ]
          },
          "metadata": {},
          "output_type": "display_data"
        }
      ]
    },
    {
      "cell_type": "code",
      "metadata": {
        "id": "lkuBK_DY7Wdx",
        "outputId": "b505b52c-a086-407f-ecb6-fd66c6a42717",
        "colab": {
          "referenced_widgets": [
            ""
          ]
        }
      },
      "source": [
        "%matplot plt"
      ],
      "execution_count": null,
      "outputs": [
        {
          "data": {
            "application/vnd.jupyter.widget-view+json": {
              "model_id": "",
              "version_major": 2,
              "version_minor": 0
            },
            "text/plain": [
              "FloatProgress(value=0.0, bar_style='info', description='Progress:', layout=Layout(height='25px', width='50%'),…"
            ]
          },
          "metadata": {},
          "output_type": "display_data"
        },
        {
          "data": {
            "image/png": "[encoded data removed]",
            "text/plain": [
              "<IPython.core.display.Image object>"
            ]
          },
          "metadata": {},
          "output_type": "display_data"
        }
      ]
    },
    {
      "cell_type": "code",
      "metadata": {
        "id": "egyPxV7i7Wdx",
        "outputId": "a4d14e19-7999-4ed5-b4ff-d5d3b603c336",
        "colab": {
          "referenced_widgets": [
            "071f583f1a1e47c187149800668654c3",
            ""
          ]
        }
      },
      "source": [
        "DF = df.toPandas()"
      ],
      "execution_count": null,
      "outputs": [
        {
          "data": {
            "application/vnd.jupyter.widget-view+json": {
              "model_id": "071f583f1a1e47c187149800668654c3",
              "version_major": 2,
              "version_minor": 0
            },
            "text/plain": [
              "VBox()"
            ]
          },
          "metadata": {},
          "output_type": "display_data"
        },
        {
          "data": {
            "application/vnd.jupyter.widget-view+json": {
              "model_id": "",
              "version_major": 2,
              "version_minor": 0
            },
            "text/plain": [
              "FloatProgress(value=0.0, bar_style='info', description='Progress:', layout=Layout(height='25px', width='50%'),…"
            ]
          },
          "metadata": {},
          "output_type": "display_data"
        }
      ]
    },
    {
      "cell_type": "code",
      "metadata": {
        "id": "OBfLPf7Q7Wdy",
        "outputId": "aa3ac173-dd51-4c00-e401-56622e4a8e89",
        "colab": {
          "referenced_widgets": [
            "8e154f978d3f47db81847bb02bcc89ec",
            ""
          ]
        }
      },
      "source": [
        "DF.groupby(['race', 'sex']).size().unstack().plot(kind='bar',stacked=False)\n"
      ],
      "execution_count": null,
      "outputs": [
        {
          "data": {
            "application/vnd.jupyter.widget-view+json": {
              "model_id": "8e154f978d3f47db81847bb02bcc89ec",
              "version_major": 2,
              "version_minor": 0
            },
            "text/plain": [
              "VBox()"
            ]
          },
          "metadata": {},
          "output_type": "display_data"
        },
        {
          "data": {
            "application/vnd.jupyter.widget-view+json": {
              "model_id": "",
              "version_major": 2,
              "version_minor": 0
            },
            "text/plain": [
              "FloatProgress(value=0.0, bar_style='info', description='Progress:', layout=Layout(height='25px', width='50%'),…"
            ]
          },
          "metadata": {},
          "output_type": "display_data"
        },
        {
          "name": "stdout",
          "output_type": "stream",
          "text": [
            "<matplotlib.axes._subplots.AxesSubplot object at 0x7fcc384aaa58>"
          ]
        }
      ]
    },
    {
      "cell_type": "code",
      "metadata": {
        "id": "XlBxVOU07Wdy",
        "outputId": "29f261b9-8337-4f9c-e1e4-a08115a15a5f",
        "colab": {
          "referenced_widgets": [
            "3938bd3f047d450b8deccf30c8bc2797",
            ""
          ]
        }
      },
      "source": [
        "import matplotlib.pyplot as plt\n",
        "plt.rcParams['figure.figsize'] = [14, 6]\n",
        "%matplot plt"
      ],
      "execution_count": null,
      "outputs": [
        {
          "data": {
            "application/vnd.jupyter.widget-view+json": {
              "model_id": "3938bd3f047d450b8deccf30c8bc2797",
              "version_major": 2,
              "version_minor": 0
            },
            "text/plain": [
              "VBox()"
            ]
          },
          "metadata": {},
          "output_type": "display_data"
        },
        {
          "data": {
            "application/vnd.jupyter.widget-view+json": {
              "model_id": "",
              "version_major": 2,
              "version_minor": 0
            },
            "text/plain": [
              "FloatProgress(value=0.0, bar_style='info', description='Progress:', layout=Layout(height='25px', width='50%'),…"
            ]
          },
          "metadata": {},
          "output_type": "display_data"
        },
        {
          "data": {
            "image/png": "[encoded data removed]",
            "text/plain": [
              "<IPython.core.display.Image object>"
            ]
          },
          "metadata": {},
          "output_type": "display_data"
        }
      ]
    },
    {
      "cell_type": "code",
      "metadata": {
        "id": "QlbKRSOZ7Wdy"
      },
      "source": [
        ""
      ],
      "execution_count": null,
      "outputs": []
    },
    {
      "cell_type": "markdown",
      "metadata": {
        "id": "fLSNlZhQ7Wdz"
      },
      "source": [
        "# Machine Learning Problem"
      ]
    },
    {
      "cell_type": "markdown",
      "metadata": {
        "id": "tNj_vnkI7Wdz"
      },
      "source": [
        "In this example we want to use the Adult data set to build a model that will, given all the other attributes, predict whether an individual will earn more or less than 50K a year. This is a classification problem. \n",
        "\n",
        "This dataset, together with all its descriptions, is publicly available at UCI ML repository \n",
        "https://archive.ics.uci.edu/ml/datasets/Adult\n",
        "\n"
      ]
    },
    {
      "cell_type": "markdown",
      "metadata": {
        "id": "yNADNCvb7Wdz"
      },
      "source": [
        "# 1. Prepare data for ML"
      ]
    },
    {
      "cell_type": "code",
      "metadata": {
        "id": "eUjArxGl7Wdz",
        "outputId": "4c66c805-4389-4c9c-d503-3381fe449229",
        "colab": {
          "referenced_widgets": [
            "12b262b36e68414a947456d5d406f59a",
            ""
          ]
        }
      },
      "source": [
        "df.dtypes"
      ],
      "execution_count": null,
      "outputs": [
        {
          "data": {
            "application/vnd.jupyter.widget-view+json": {
              "model_id": "12b262b36e68414a947456d5d406f59a",
              "version_major": 2,
              "version_minor": 0
            },
            "text/plain": [
              "VBox()"
            ]
          },
          "metadata": {},
          "output_type": "display_data"
        },
        {
          "data": {
            "application/vnd.jupyter.widget-view+json": {
              "model_id": "",
              "version_major": 2,
              "version_minor": 0
            },
            "text/plain": [
              "FloatProgress(value=0.0, bar_style='info', description='Progress:', layout=Layout(height='25px', width='50%'),…"
            ]
          },
          "metadata": {},
          "output_type": "display_data"
        },
        {
          "name": "stdout",
          "output_type": "stream",
          "text": [
            "[('Age', 'string'), ('workclass', 'string'), ('fnlwgt', 'string'), ('education', 'string'), ('education-num', 'string'), ('marital-status', 'string'), ('occupation', 'string'), ('relationship', 'string'), ('race', 'string'), ('sex', 'string'), ('capital-gain', 'string'), ('capital-loss', 'string'), ('hours-per-week', 'string'), ('native-country', 'string'), ('Income', 'string')]"
          ]
        }
      ]
    },
    {
      "cell_type": "code",
      "metadata": {
        "id": "Cnzf5ewY7Wd0",
        "outputId": "54c453ca-e15b-48be-fb07-e0959e16215f",
        "colab": {
          "referenced_widgets": [
            "1339fbf9b84f4ff681cb882dc0a067ed",
            ""
          ]
        }
      },
      "source": [
        "from pyspark.sql.types import IntegerType\n",
        "df = df.withColumn(\"Age\", df[\"Age\"].cast(IntegerType()))\\\n",
        "       .withColumn(\"fnlwgt\", df[\"fnlwgt\"].cast(IntegerType()))\\\n",
        "       .withColumn(\"education-num\", df[\"education-num\"].cast(IntegerType()))\\\n",
        "       .withColumn(\"capital-gain\", df[\"capital-gain\"].cast(IntegerType()))\\\n",
        "       .withColumn(\"capital-loss\", df[\"capital-loss\"].cast(IntegerType()))\\\n",
        "       .withColumn(\"hours-per-week\", df[\"hours-per-week\"].cast(IntegerType()))\n",
        "        "
      ],
      "execution_count": null,
      "outputs": [
        {
          "data": {
            "application/vnd.jupyter.widget-view+json": {
              "model_id": "1339fbf9b84f4ff681cb882dc0a067ed",
              "version_major": 2,
              "version_minor": 0
            },
            "text/plain": [
              "VBox()"
            ]
          },
          "metadata": {},
          "output_type": "display_data"
        },
        {
          "data": {
            "application/vnd.jupyter.widget-view+json": {
              "model_id": "",
              "version_major": 2,
              "version_minor": 0
            },
            "text/plain": [
              "FloatProgress(value=0.0, bar_style='info', description='Progress:', layout=Layout(height='25px', width='50%'),…"
            ]
          },
          "metadata": {},
          "output_type": "display_data"
        }
      ]
    },
    {
      "cell_type": "markdown",
      "metadata": {
        "id": "mnQo_Dq07Wd0"
      },
      "source": [
        "A. Convert all the string fields to numeric ones by using the StringIndexer transformer."
      ]
    },
    {
      "cell_type": "code",
      "metadata": {
        "id": "Ki8dyeJU7Wd0",
        "outputId": "5c1e5b24-8132-4bd4-cf71-a04f8a3707f2",
        "colab": {
          "referenced_widgets": [
            "ec7041b591af4fdcb4247e2722ab6991",
            ""
          ]
        }
      },
      "source": [
        "stringIndexer_label = StringIndexer(inputCol=\"Income\", outputCol=\"Label\")\n",
        "\n",
        "strIndexer_workclass = StringIndexer(inputCol=\"workclass\", outputCol=\"workclass_IX\")\n",
        "strIndexer_edu = StringIndexer(inputCol=\"education\", outputCol=\"education_IX\")\n",
        "strIndexer_ms = StringIndexer(inputCol='marital-status', outputCol=\"marital-status_IX\")\n",
        "strIndexer_occ = StringIndexer(inputCol=\"occupation\", outputCol=\"occupation_IX\")\n",
        "strIndexer_rela = StringIndexer(inputCol=\"relationship\", outputCol=\"relationship_IX\")\n",
        "strIndexer_race = StringIndexer(inputCol=\"race\", outputCol=\"race_IX\")\n",
        "strIndexer_sex = StringIndexer(inputCol=\"sex\", outputCol=\"sex_IX\")\n",
        "strIndexer_nc = StringIndexer(inputCol=\"native-country\", outputCol=\"native-country_IX\")\n"
      ],
      "execution_count": null,
      "outputs": [
        {
          "data": {
            "application/vnd.jupyter.widget-view+json": {
              "model_id": "ec7041b591af4fdcb4247e2722ab6991",
              "version_major": 2,
              "version_minor": 0
            },
            "text/plain": [
              "VBox()"
            ]
          },
          "metadata": {},
          "output_type": "display_data"
        },
        {
          "data": {
            "application/vnd.jupyter.widget-view+json": {
              "model_id": "",
              "version_major": 2,
              "version_minor": 0
            },
            "text/plain": [
              "FloatProgress(value=0.0, bar_style='info', description='Progress:', layout=Layout(height='25px', width='50%'),…"
            ]
          },
          "metadata": {},
          "output_type": "display_data"
        }
      ]
    },
    {
      "cell_type": "markdown",
      "metadata": {
        "id": "ojBCd4h27Wd1"
      },
      "source": [
        "B. One Hot encoding"
      ]
    },
    {
      "cell_type": "code",
      "metadata": {
        "id": "jNYIjy-h7Wd1",
        "outputId": "69f0afa2-ebf7-485f-a153-8a008b0a7870",
        "colab": {
          "referenced_widgets": [
            "5344da55bce94d598944153bdd759ba7",
            ""
          ]
        }
      },
      "source": [
        "OneHot_workclass = OneHotEncoder(inputCol=\"workclass_IX\", outputCol=\"workclass_Vec\")\n",
        "OneHot_edu = OneHotEncoder(inputCol=\"education_IX\", outputCol=\"education_Vec\")\n",
        "OneHot_ms = OneHotEncoder(inputCol='marital-status_IX', outputCol=\"marital-status_Vec\")\n",
        "OneHot_occ = OneHotEncoder(inputCol=\"occupation_IX\", outputCol=\"occupation_Vec\")\n",
        "OneHot_rela = OneHotEncoder(inputCol=\"relationship_IX\", outputCol=\"relationship_Vec\")\n",
        "OneHot_race = OneHotEncoder(inputCol=\"race_IX\", outputCol=\"race_Vec\")\n",
        "OneHot_sex = OneHotEncoder(inputCol=\"sex_IX\", outputCol=\"sex_Vec\")\n",
        "OneHot_nc = OneHotEncoder(inputCol=\"native-country_IX\", outputCol=\"native-country_Vec\")"
      ],
      "execution_count": null,
      "outputs": [
        {
          "data": {
            "application/vnd.jupyter.widget-view+json": {
              "model_id": "5344da55bce94d598944153bdd759ba7",
              "version_major": 2,
              "version_minor": 0
            },
            "text/plain": [
              "VBox()"
            ]
          },
          "metadata": {},
          "output_type": "display_data"
        },
        {
          "data": {
            "application/vnd.jupyter.widget-view+json": {
              "model_id": "",
              "version_major": 2,
              "version_minor": 0
            },
            "text/plain": [
              "FloatProgress(value=0.0, bar_style='info', description='Progress:', layout=Layout(height='25px', width='50%'),…"
            ]
          },
          "metadata": {},
          "output_type": "display_data"
        }
      ]
    },
    {
      "cell_type": "markdown",
      "metadata": {
        "id": "zlIbjUDU7Wd1"
      },
      "source": [
        "C. Create a feature vector by combining all features together."
      ]
    },
    {
      "cell_type": "code",
      "metadata": {
        "id": "t7t8utDU7Wd2",
        "outputId": "0297150e-4d85-43ad-fefc-31733172204e",
        "colab": {
          "referenced_widgets": [
            "db5142ae0eac4948a67c582ddd3f007b",
            ""
          ]
        }
      },
      "source": [
        "VA_features = VectorAssembler(inputCols=[\"workclass_Vec\", 'education_Vec', 'marital-status_Vec', \n",
        "                                         \"occupation_Vec\", \"relationship_Vec\", \"race_Vec\",\n",
        "                                         \"sex_Vec\", \"native-country_Vec\", \n",
        "                                         'Age', 'fnlwgt', 'education-num', 'capital-gain', 'capital-loss',\n",
        "                                         'hours-per-week',], outputCol=\"Features\")"
      ],
      "execution_count": null,
      "outputs": [
        {
          "data": {
            "application/vnd.jupyter.widget-view+json": {
              "model_id": "db5142ae0eac4948a67c582ddd3f007b",
              "version_major": 2,
              "version_minor": 0
            },
            "text/plain": [
              "VBox()"
            ]
          },
          "metadata": {},
          "output_type": "display_data"
        },
        {
          "data": {
            "application/vnd.jupyter.widget-view+json": {
              "model_id": "",
              "version_major": 2,
              "version_minor": 0
            },
            "text/plain": [
              "FloatProgress(value=0.0, bar_style='info', description='Progress:', layout=Layout(height='25px', width='50%'),…"
            ]
          },
          "metadata": {},
          "output_type": "display_data"
        }
      ]
    },
    {
      "cell_type": "code",
      "metadata": {
        "id": "KAphB2Xv7Wd2"
      },
      "source": [
        ""
      ],
      "execution_count": null,
      "outputs": []
    },
    {
      "cell_type": "markdown",
      "metadata": {
        "id": "BhXJepdH7Wd2"
      },
      "source": [
        "Build a Pipeline!"
      ]
    },
    {
      "cell_type": "code",
      "metadata": {
        "id": "Lmf20eR-7Wd2",
        "outputId": "4b65634c-514f-4bd8-a5a8-f728b131a571",
        "colab": {
          "referenced_widgets": [
            "370f682b98f444119b9b9f2be4ccc2ae",
            ""
          ]
        }
      },
      "source": [
        "pipe = Pipeline(stages=[stringIndexer_label, strIndexer_workclass, strIndexer_edu, strIndexer_ms, strIndexer_occ, \n",
        "                        strIndexer_rela, strIndexer_race, strIndexer_sex, strIndexer_nc, \n",
        "                        OneHot_workclass, OneHot_edu, OneHot_ms, OneHot_occ, OneHot_rela, OneHot_race, OneHot_sex,\n",
        "                        OneHot_nc, \n",
        "                        VA_features]\n",
        "               )"
      ],
      "execution_count": null,
      "outputs": [
        {
          "data": {
            "application/vnd.jupyter.widget-view+json": {
              "model_id": "370f682b98f444119b9b9f2be4ccc2ae",
              "version_major": 2,
              "version_minor": 0
            },
            "text/plain": [
              "VBox()"
            ]
          },
          "metadata": {},
          "output_type": "display_data"
        },
        {
          "data": {
            "application/vnd.jupyter.widget-view+json": {
              "model_id": "",
              "version_major": 2,
              "version_minor": 0
            },
            "text/plain": [
              "FloatProgress(value=0.0, bar_style='info', description='Progress:', layout=Layout(height='25px', width='50%'),…"
            ]
          },
          "metadata": {},
          "output_type": "display_data"
        }
      ]
    },
    {
      "cell_type": "code",
      "metadata": {
        "id": "a0fIztFr7Wd3",
        "outputId": "39d449ef-ba56-48de-f7a1-bdd34cfd35a1",
        "colab": {
          "referenced_widgets": [
            "14e7e88997994b0c89bea2a6b6ffbbbc",
            ""
          ]
        }
      },
      "source": [
        "pipedModel = pipe.fit(df)\n",
        "dfTransformed = pipedModel.transform(df)\n",
        "\n"
      ],
      "execution_count": null,
      "outputs": [
        {
          "data": {
            "application/vnd.jupyter.widget-view+json": {
              "model_id": "14e7e88997994b0c89bea2a6b6ffbbbc",
              "version_major": 2,
              "version_minor": 0
            },
            "text/plain": [
              "VBox()"
            ]
          },
          "metadata": {},
          "output_type": "display_data"
        },
        {
          "data": {
            "application/vnd.jupyter.widget-view+json": {
              "model_id": "",
              "version_major": 2,
              "version_minor": 0
            },
            "text/plain": [
              "FloatProgress(value=0.0, bar_style='info', description='Progress:', layout=Layout(height='25px', width='50%'),…"
            ]
          },
          "metadata": {},
          "output_type": "display_data"
        }
      ]
    },
    {
      "cell_type": "code",
      "metadata": {
        "id": "MQV-TGhm7Wd3",
        "outputId": "b57a3d08-0bbc-4c72-cff2-7699e4cdea2b",
        "colab": {
          "referenced_widgets": [
            "6c75ad5a922b42e986b50baaaf9bceb3",
            ""
          ]
        }
      },
      "source": [
        "dfTransformed.columns"
      ],
      "execution_count": null,
      "outputs": [
        {
          "data": {
            "application/vnd.jupyter.widget-view+json": {
              "model_id": "6c75ad5a922b42e986b50baaaf9bceb3",
              "version_major": 2,
              "version_minor": 0
            },
            "text/plain": [
              "VBox()"
            ]
          },
          "metadata": {},
          "output_type": "display_data"
        },
        {
          "data": {
            "application/vnd.jupyter.widget-view+json": {
              "model_id": "",
              "version_major": 2,
              "version_minor": 0
            },
            "text/plain": [
              "FloatProgress(value=0.0, bar_style='info', description='Progress:', layout=Layout(height='25px', width='50%'),…"
            ]
          },
          "metadata": {},
          "output_type": "display_data"
        },
        {
          "name": "stdout",
          "output_type": "stream",
          "text": [
            "['Age', 'workclass', 'fnlwgt', 'education', 'education-num', 'marital-status', 'occupation', 'relationship', 'race', 'sex', 'capital-gain', 'capital-loss', 'hours-per-week', 'native-country', 'Income', 'Label', 'workclass_IX', 'education_IX', 'marital-status_IX', 'occupation_IX', 'relationship_IX', 'race_IX', 'sex_IX', 'native-country_IX', 'workclass_Vec', 'education_Vec', 'marital-status_Vec', 'occupation_Vec', 'relationship_Vec', 'race_Vec', 'sex_Vec', 'native-country_Vec', 'Features']"
          ]
        }
      ]
    },
    {
      "cell_type": "code",
      "metadata": {
        "id": "slFw2kQn7Wd3",
        "outputId": "44e7c69e-16ba-4dfd-c184-a64bd62ff24a",
        "colab": {
          "referenced_widgets": [
            "1f212bc6b24f41a690f3035a6e95ac57",
            ""
          ]
        }
      },
      "source": [
        "dfTransformed.select(['Features', 'Label']).show(5, truncate = False)"
      ],
      "execution_count": null,
      "outputs": [
        {
          "data": {
            "application/vnd.jupyter.widget-view+json": {
              "model_id": "1f212bc6b24f41a690f3035a6e95ac57",
              "version_major": 2,
              "version_minor": 0
            },
            "text/plain": [
              "VBox()"
            ]
          },
          "metadata": {},
          "output_type": "display_data"
        },
        {
          "data": {
            "application/vnd.jupyter.widget-view+json": {
              "model_id": "",
              "version_major": 2,
              "version_minor": 0
            },
            "text/plain": [
              "FloatProgress(value=0.0, bar_style='info', description='Progress:', layout=Layout(height='25px', width='50%'),…"
            ]
          },
          "metadata": {},
          "output_type": "display_data"
        },
        {
          "name": "stdout",
          "output_type": "stream",
          "text": [
            "+-------------------------------------------------------------------------------------------------------------+-----+\n",
            "|Features                                                                                                     |Label|\n",
            "+-------------------------------------------------------------------------------------------------------------+-----+\n",
            "|(100,[4,10,24,32,44,48,52,53,94,95,96,97,99],[1.0,1.0,1.0,1.0,1.0,1.0,1.0,1.0,39.0,77516.0,13.0,2174.0,40.0])|0.0  |\n",
            "|(100,[1,10,23,31,43,48,52,53,94,95,96,99],[1.0,1.0,1.0,1.0,1.0,1.0,1.0,1.0,50.0,83311.0,13.0,13.0])          |0.0  |\n",
            "|(100,[0,8,25,38,44,48,52,53,94,95,96,99],[1.0,1.0,1.0,1.0,1.0,1.0,1.0,1.0,38.0,215646.0,9.0,40.0])           |0.0  |\n",
            "|(100,[0,13,23,38,43,49,52,53,94,95,96,99],[1.0,1.0,1.0,1.0,1.0,1.0,1.0,1.0,53.0,234721.0,7.0,40.0])          |0.0  |\n",
            "|(100,[0,10,23,29,47,49,62,94,95,96,99],[1.0,1.0,1.0,1.0,1.0,1.0,1.0,28.0,338409.0,13.0,40.0])                |0.0  |\n",
            "+-------------------------------------------------------------------------------------------------------------+-----+\n",
            "only showing top 5 rows"
          ]
        }
      ]
    },
    {
      "cell_type": "code",
      "metadata": {
        "id": "yJCr5m3b7Wd4",
        "outputId": "24088766-42c1-41a5-db1a-5af59da0149e",
        "colab": {
          "referenced_widgets": [
            "c64d80e6e8bf46d38cb322511d4316b8",
            ""
          ]
        }
      },
      "source": [
        "df.select(['Age', 'fnlwgt', 'education-num']).show(5, truncate = False)"
      ],
      "execution_count": null,
      "outputs": [
        {
          "data": {
            "application/vnd.jupyter.widget-view+json": {
              "model_id": "c64d80e6e8bf46d38cb322511d4316b8",
              "version_major": 2,
              "version_minor": 0
            },
            "text/plain": [
              "VBox()"
            ]
          },
          "metadata": {},
          "output_type": "display_data"
        },
        {
          "data": {
            "application/vnd.jupyter.widget-view+json": {
              "model_id": "",
              "version_major": 2,
              "version_minor": 0
            },
            "text/plain": [
              "FloatProgress(value=0.0, bar_style='info', description='Progress:', layout=Layout(height='25px', width='50%'),…"
            ]
          },
          "metadata": {},
          "output_type": "display_data"
        },
        {
          "name": "stdout",
          "output_type": "stream",
          "text": [
            "+---+------+-------------+\n",
            "|Age|fnlwgt|education-num|\n",
            "+---+------+-------------+\n",
            "|39 |77516 |13           |\n",
            "|50 |83311 |13           |\n",
            "|38 |215646|9            |\n",
            "|53 |234721|7            |\n",
            "|28 |338409|13           |\n",
            "+---+------+-------------+\n",
            "only showing top 5 rows"
          ]
        }
      ]
    },
    {
      "cell_type": "code",
      "metadata": {
        "id": "NJe0jVVq7Wd4"
      },
      "source": [
        ""
      ],
      "execution_count": null,
      "outputs": []
    },
    {
      "cell_type": "markdown",
      "metadata": {
        "id": "iwPYc0P-7Wd4"
      },
      "source": [
        "### Split data into training and testing"
      ]
    },
    {
      "cell_type": "code",
      "metadata": {
        "id": "aLboJO-j7Wd4",
        "outputId": "12566f26-4e83-4471-8653-313e2ad56036",
        "colab": {
          "referenced_widgets": [
            "48bd1665c16f464ba521d0046aca835a",
            ""
          ]
        }
      },
      "source": [
        "print('\\nSplit dataset into training and testing sets...')\n",
        "training, testing = dfTransformed.select([\"Label\", \"Features\"]).randomSplit([0.7, 0.3])\n",
        "\n",
        "### Split data, randomly, into training and test sets. Stratified sampling highly recommended,for skewed data\n",
        "\n",
        "# training, testing = data.randomSplit([0.7, 0.3])\n",
        "# #print len(training)"
      ],
      "execution_count": null,
      "outputs": [
        {
          "data": {
            "application/vnd.jupyter.widget-view+json": {
              "model_id": "48bd1665c16f464ba521d0046aca835a",
              "version_major": 2,
              "version_minor": 0
            },
            "text/plain": [
              "VBox()"
            ]
          },
          "metadata": {},
          "output_type": "display_data"
        },
        {
          "data": {
            "application/vnd.jupyter.widget-view+json": {
              "model_id": "",
              "version_major": 2,
              "version_minor": 0
            },
            "text/plain": [
              "FloatProgress(value=0.0, bar_style='info', description='Progress:', layout=Layout(height='25px', width='50%'),…"
            ]
          },
          "metadata": {},
          "output_type": "display_data"
        },
        {
          "name": "stdout",
          "output_type": "stream",
          "text": [
            "\n",
            "Split dataset into training and testing sets..."
          ]
        }
      ]
    },
    {
      "cell_type": "code",
      "metadata": {
        "id": "mLo8qfr47Wd5"
      },
      "source": [
        ""
      ],
      "execution_count": null,
      "outputs": []
    },
    {
      "cell_type": "markdown",
      "metadata": {
        "id": "CEaaexMu7Wd5"
      },
      "source": [
        "## Load ML libraries"
      ]
    },
    {
      "cell_type": "code",
      "metadata": {
        "id": "tPH0RvE-7Wd5",
        "outputId": "43f06617-fcc5-4416-90d0-0cfcdd6e8ec4",
        "colab": {
          "referenced_widgets": [
            "79f9e31cd8584609a86f33ee53cdade1",
            ""
          ]
        }
      },
      "source": [
        "from pyspark.ml.classification import DecisionTreeClassifier as   DT      # decision tree\n",
        "from pyspark.ml.classification import RandomForestClassifier, RandomForestClassificationModel              # Random Forest, ofcourse\n",
        "from pyspark.ml.classification import MultilayerPerceptronClassifier      # feedforward artificial neural network\n",
        "from pyspark.ml.classification import GBTClassifier                       # gradient-boosted tree \n",
        "from pyspark.ml.classification import NaiveBayes                          # naive bayes\n",
        "from pyspark.ml.classification import MultilayerPerceptronClassificationModel \n",
        "from pyspark.ml.classification import LogisticRegression                 # logistic regression\n",
        "\n",
        "from pyspark.ml.regression import LinearRegression                       # Regression problem\n",
        "from pyspark.ml.regression import DecisionTreeRegressor\n",
        "from pyspark.ml.regression import RandomForestRegressor \n",
        "from pyspark.ml.regression import GBTRegressor\n",
        "from pyspark.ml.regression import GeneralizedLinearRegression\n",
        "\n",
        "from pyspark.ml.feature import PCA                                       # Principal Components Analysis \n",
        "from pyspark.ml.evaluation import BinaryClassificationEvaluator\n",
        "from pyspark.ml.evaluation import MulticlassClassificationEvaluator\n",
        "from pyspark.ml.evaluation import RegressionEvaluator\n",
        "from pyspark.ml.classification import LogisticRegressionModel\n"
      ],
      "execution_count": null,
      "outputs": [
        {
          "data": {
            "application/vnd.jupyter.widget-view+json": {
              "model_id": "79f9e31cd8584609a86f33ee53cdade1",
              "version_major": 2,
              "version_minor": 0
            },
            "text/plain": [
              "VBox()"
            ]
          },
          "metadata": {},
          "output_type": "display_data"
        },
        {
          "data": {
            "application/vnd.jupyter.widget-view+json": {
              "model_id": "",
              "version_major": 2,
              "version_minor": 0
            },
            "text/plain": [
              "FloatProgress(value=0.0, bar_style='info', description='Progress:', layout=Layout(height='25px', width='50%'),…"
            ]
          },
          "metadata": {},
          "output_type": "display_data"
        }
      ]
    },
    {
      "cell_type": "code",
      "metadata": {
        "id": "GOstq37i7Wd6"
      },
      "source": [
        ""
      ],
      "execution_count": null,
      "outputs": []
    },
    {
      "cell_type": "markdown",
      "metadata": {
        "id": "AN2VJATo7Wd6"
      },
      "source": [
        "## Model 1: Random Forest"
      ]
    },
    {
      "cell_type": "markdown",
      "metadata": {
        "id": "Z1868KXa7Wd6"
      },
      "source": [
        "#### Define the model"
      ]
    },
    {
      "cell_type": "code",
      "metadata": {
        "id": "ATx0A8gY7Wd6",
        "outputId": "e54c9fb9-7da3-4315-f614-90901d69f827",
        "colab": {
          "referenced_widgets": [
            "62183ef3a0e4446a8860a9d8b4dee204",
            ""
          ]
        }
      },
      "source": [
        "\n",
        "RF = RandomForestClassifier(labelCol=\"Label\", featuresCol=\"Features\")"
      ],
      "execution_count": null,
      "outputs": [
        {
          "data": {
            "application/vnd.jupyter.widget-view+json": {
              "model_id": "62183ef3a0e4446a8860a9d8b4dee204",
              "version_major": 2,
              "version_minor": 0
            },
            "text/plain": [
              "VBox()"
            ]
          },
          "metadata": {},
          "output_type": "display_data"
        },
        {
          "data": {
            "application/vnd.jupyter.widget-view+json": {
              "model_id": "",
              "version_major": 2,
              "version_minor": 0
            },
            "text/plain": [
              "FloatProgress(value=0.0, bar_style='info', description='Progress:', layout=Layout(height='25px', width='50%'),…"
            ]
          },
          "metadata": {},
          "output_type": "display_data"
        }
      ]
    },
    {
      "cell_type": "markdown",
      "metadata": {
        "id": "oap2mMVR7Wd6"
      },
      "source": [
        "#### Fit/train the model"
      ]
    },
    {
      "cell_type": "code",
      "metadata": {
        "id": "XQUyKjlf7Wd7",
        "outputId": "ab14d954-c4be-4569-e767-ef6a8b7a8db3",
        "colab": {
          "referenced_widgets": [
            "b8400c233b7a4ded86853b0ae5553301",
            ""
          ]
        }
      },
      "source": [
        "\n",
        "modelRF = RF.fit(training)"
      ],
      "execution_count": null,
      "outputs": [
        {
          "data": {
            "application/vnd.jupyter.widget-view+json": {
              "model_id": "b8400c233b7a4ded86853b0ae5553301",
              "version_major": 2,
              "version_minor": 0
            },
            "text/plain": [
              "VBox()"
            ]
          },
          "metadata": {},
          "output_type": "display_data"
        },
        {
          "data": {
            "application/vnd.jupyter.widget-view+json": {
              "model_id": "",
              "version_major": 2,
              "version_minor": 0
            },
            "text/plain": [
              "FloatProgress(value=0.0, bar_style='info', description='Progress:', layout=Layout(height='25px', width='50%'),…"
            ]
          },
          "metadata": {},
          "output_type": "display_data"
        }
      ]
    },
    {
      "cell_type": "code",
      "metadata": {
        "id": "HBcXaVTX7Wd7",
        "outputId": "3cdf286e-b1b9-4557-956a-f0d996768a37",
        "colab": {
          "referenced_widgets": [
            "edab1c045d174132b12a41fc7edf26eb",
            ""
          ]
        }
      },
      "source": [
        "## Make predictions\n",
        "predictions = modelRF.transform(testing)"
      ],
      "execution_count": null,
      "outputs": [
        {
          "data": {
            "application/vnd.jupyter.widget-view+json": {
              "model_id": "edab1c045d174132b12a41fc7edf26eb",
              "version_major": 2,
              "version_minor": 0
            },
            "text/plain": [
              "VBox()"
            ]
          },
          "metadata": {},
          "output_type": "display_data"
        },
        {
          "data": {
            "application/vnd.jupyter.widget-view+json": {
              "model_id": "",
              "version_major": 2,
              "version_minor": 0
            },
            "text/plain": [
              "FloatProgress(value=0.0, bar_style='info', description='Progress:', layout=Layout(height='25px', width='50%'),…"
            ]
          },
          "metadata": {},
          "output_type": "display_data"
        }
      ]
    },
    {
      "cell_type": "code",
      "metadata": {
        "id": "9kzRWurU7Wd7",
        "outputId": "95e1a097-16ba-4c7c-8746-80a791694d57",
        "colab": {
          "referenced_widgets": [
            "d444fbf3f74c4b1cb494ecb14e6e5e27",
            ""
          ]
        }
      },
      "source": [
        "predictions.columns"
      ],
      "execution_count": null,
      "outputs": [
        {
          "data": {
            "application/vnd.jupyter.widget-view+json": {
              "model_id": "d444fbf3f74c4b1cb494ecb14e6e5e27",
              "version_major": 2,
              "version_minor": 0
            },
            "text/plain": [
              "VBox()"
            ]
          },
          "metadata": {},
          "output_type": "display_data"
        },
        {
          "data": {
            "application/vnd.jupyter.widget-view+json": {
              "model_id": "",
              "version_major": 2,
              "version_minor": 0
            },
            "text/plain": [
              "FloatProgress(value=0.0, bar_style='info', description='Progress:', layout=Layout(height='25px', width='50%'),…"
            ]
          },
          "metadata": {},
          "output_type": "display_data"
        },
        {
          "name": "stdout",
          "output_type": "stream",
          "text": [
            "['Label', 'Features', 'rawPrediction', 'probability', 'prediction']"
          ]
        }
      ]
    },
    {
      "cell_type": "markdown",
      "metadata": {
        "id": "3tglV3q17Wd7"
      },
      "source": [
        "#### Evaluation"
      ]
    },
    {
      "cell_type": "code",
      "metadata": {
        "id": "LJJGQETT7Wd8",
        "outputId": "ec5e06e4-14bc-4fc1-ac95-0e2076d041d8",
        "colab": {
          "referenced_widgets": [
            "f41eb372d58d4a07961dc56e7731f982",
            ""
          ]
        }
      },
      "source": [
        "preds = predictions.select(['Label', 'prediction'])\n",
        "print ('='*100)\n",
        "print ('Confusion Matrix::')\n",
        "print ('\\n')\n",
        "preds.crosstab('label', 'prediction').show(truncate = False)\n",
        "print ('='*100)\n",
        "print ('\\n')"
      ],
      "execution_count": null,
      "outputs": [
        {
          "data": {
            "application/vnd.jupyter.widget-view+json": {
              "model_id": "f41eb372d58d4a07961dc56e7731f982",
              "version_major": 2,
              "version_minor": 0
            },
            "text/plain": [
              "VBox()"
            ]
          },
          "metadata": {},
          "output_type": "display_data"
        },
        {
          "data": {
            "application/vnd.jupyter.widget-view+json": {
              "model_id": "",
              "version_major": 2,
              "version_minor": 0
            },
            "text/plain": [
              "FloatProgress(value=0.0, bar_style='info', description='Progress:', layout=Layout(height='25px', width='50%'),…"
            ]
          },
          "metadata": {},
          "output_type": "display_data"
        },
        {
          "name": "stdout",
          "output_type": "stream",
          "text": [
            "====================================================================================================\n",
            "Confusion Matrix::\n",
            "\n",
            "\n",
            "+----------------+----+---+\n",
            "|label_prediction|0.0 |1.0|\n",
            "+----------------+----+---+\n",
            "|1.0             |1622|824|\n",
            "|0.0             |7259|146|\n",
            "+----------------+----+---+\n",
            "\n",
            "===================================================================================================="
          ]
        }
      ]
    },
    {
      "cell_type": "markdown",
      "metadata": {
        "id": "pQ-IRY6E7Wd8"
      },
      "source": [
        "Other Metrics"
      ]
    },
    {
      "cell_type": "code",
      "metadata": {
        "id": "NTUv_Gi-7Wd8",
        "outputId": "6a09d898-b7e4-41ad-ea0f-1ed9aabc708c",
        "colab": {
          "referenced_widgets": [
            "317112343cef47f69fad4f0aaed0bed7",
            ""
          ]
        }
      },
      "source": [
        "# f1|precision|recall|weightedPrecision|weightedRecall\n",
        "evaluatorRF = MulticlassClassificationEvaluator(labelCol=\"Label\", predictionCol=\"prediction\", metricName=\"weightedPrecision\")\n",
        "accuracy = evaluatorRF.evaluate(predictions)\n",
        "\n",
        "evaluator = MulticlassClassificationEvaluator(labelCol='Label', predictionCol='prediction', metricName='f1')  \n",
        "F1_score = evaluator.evaluate(predictions)\n",
        "\n",
        "evaluator = MulticlassClassificationEvaluator(labelCol='Label', predictionCol='prediction', metricName='weightedRecall')  \n",
        "recall = evaluator.evaluate(predictions)\n",
        "\n",
        "print(\"Accuracy = %g\" % accuracy)\n",
        "print(\"Test Error = %g\" % (1.0 - accuracy))\n",
        "print('The F1 Score = %g' % F1_score)\n",
        "print('Recall = %g' % recall)"
      ],
      "execution_count": null,
      "outputs": [
        {
          "data": {
            "application/vnd.jupyter.widget-view+json": {
              "model_id": "317112343cef47f69fad4f0aaed0bed7",
              "version_major": 2,
              "version_minor": 0
            },
            "text/plain": [
              "VBox()"
            ]
          },
          "metadata": {},
          "output_type": "display_data"
        },
        {
          "data": {
            "application/vnd.jupyter.widget-view+json": {
              "model_id": "",
              "version_major": 2,
              "version_minor": 0
            },
            "text/plain": [
              "FloatProgress(value=0.0, bar_style='info', description='Progress:', layout=Layout(height='25px', width='50%'),…"
            ]
          },
          "metadata": {},
          "output_type": "display_data"
        },
        {
          "name": "stdout",
          "output_type": "stream",
          "text": [
            "Accuracy = 0.825339\n",
            "Test Error = 0.174661\n",
            "The F1 Score = 0.789885\n",
            "Recall = 0.820526"
          ]
        }
      ]
    },
    {
      "cell_type": "markdown",
      "metadata": {
        "id": "Ha2jWyAF7Wd9"
      },
      "source": [
        "## Model 2: Logistic Regression"
      ]
    },
    {
      "cell_type": "code",
      "metadata": {
        "id": "Iy7E9-Mu7Wd9",
        "outputId": "b5b517bd-c214-405f-8268-1b341be91e36",
        "colab": {
          "referenced_widgets": [
            "a89d45e371d54e6ebe146d1069235540",
            ""
          ]
        }
      },
      "source": [
        "## Define the model\n",
        "lr = LogisticRegression(labelCol=\"Label\", featuresCol=\"Features\")"
      ],
      "execution_count": null,
      "outputs": [
        {
          "data": {
            "application/vnd.jupyter.widget-view+json": {
              "model_id": "a89d45e371d54e6ebe146d1069235540",
              "version_major": 2,
              "version_minor": 0
            },
            "text/plain": [
              "VBox()"
            ]
          },
          "metadata": {},
          "output_type": "display_data"
        },
        {
          "data": {
            "application/vnd.jupyter.widget-view+json": {
              "model_id": "",
              "version_major": 2,
              "version_minor": 0
            },
            "text/plain": [
              "FloatProgress(value=0.0, bar_style='info', description='Progress:', layout=Layout(height='25px', width='50%'),…"
            ]
          },
          "metadata": {},
          "output_type": "display_data"
        }
      ]
    },
    {
      "cell_type": "code",
      "metadata": {
        "id": "G2GcfDFs7Wd9"
      },
      "source": [
        ""
      ],
      "execution_count": null,
      "outputs": []
    },
    {
      "cell_type": "code",
      "metadata": {
        "id": "lk4_kiA57Wd9",
        "outputId": "a725ef95-0fa1-4aea-a4f7-82ebd5da48b6",
        "colab": {
          "referenced_widgets": [
            "bee5e54b1f954dcc86454eb577c648c7",
            ""
          ]
        }
      },
      "source": [
        "## fit the model\n",
        "lrModel = lr.fit(training)"
      ],
      "execution_count": null,
      "outputs": [
        {
          "data": {
            "application/vnd.jupyter.widget-view+json": {
              "model_id": "bee5e54b1f954dcc86454eb577c648c7",
              "version_major": 2,
              "version_minor": 0
            },
            "text/plain": [
              "VBox()"
            ]
          },
          "metadata": {},
          "output_type": "display_data"
        },
        {
          "data": {
            "application/vnd.jupyter.widget-view+json": {
              "model_id": "",
              "version_major": 2,
              "version_minor": 0
            },
            "text/plain": [
              "FloatProgress(value=0.0, bar_style='info', description='Progress:', layout=Layout(height='25px', width='50%'),…"
            ]
          },
          "metadata": {},
          "output_type": "display_data"
        }
      ]
    },
    {
      "cell_type": "code",
      "metadata": {
        "id": "VoPKirt17Wd-",
        "outputId": "8dea1b62-b6fd-430d-dcf7-ebe32ab02f95",
        "colab": {
          "referenced_widgets": [
            "c332c7d9ece34e1082a5b1f3061657a2",
            ""
          ]
        }
      },
      "source": [
        "## Make predictions\n",
        "predLR = lrModel.transform(testing)"
      ],
      "execution_count": null,
      "outputs": [
        {
          "data": {
            "application/vnd.jupyter.widget-view+json": {
              "model_id": "c332c7d9ece34e1082a5b1f3061657a2",
              "version_major": 2,
              "version_minor": 0
            },
            "text/plain": [
              "VBox()"
            ]
          },
          "metadata": {},
          "output_type": "display_data"
        },
        {
          "data": {
            "application/vnd.jupyter.widget-view+json": {
              "model_id": "",
              "version_major": 2,
              "version_minor": 0
            },
            "text/plain": [
              "FloatProgress(value=0.0, bar_style='info', description='Progress:', layout=Layout(height='25px', width='50%'),…"
            ]
          },
          "metadata": {},
          "output_type": "display_data"
        }
      ]
    },
    {
      "cell_type": "code",
      "metadata": {
        "id": "8Cmz3hFl7Wd-",
        "outputId": "06688944-e9bd-4592-9086-12e0cdefc6ee",
        "colab": {
          "referenced_widgets": [
            "f03e26d996f94f55a5ec34af4923dd8c",
            ""
          ]
        }
      },
      "source": [
        "preds = predLR.select(['label', 'prediction'])\n",
        "print ('='*100)\n",
        "print ('Confusion Matrix::')\n",
        "print ('\\n')\n",
        "preds.crosstab('label', 'prediction').show(truncate = False)\n",
        "print ('='*100)\n",
        "print ('\\n')"
      ],
      "execution_count": null,
      "outputs": [
        {
          "data": {
            "application/vnd.jupyter.widget-view+json": {
              "model_id": "f03e26d996f94f55a5ec34af4923dd8c",
              "version_major": 2,
              "version_minor": 0
            },
            "text/plain": [
              "VBox()"
            ]
          },
          "metadata": {},
          "output_type": "display_data"
        },
        {
          "data": {
            "application/vnd.jupyter.widget-view+json": {
              "model_id": "",
              "version_major": 2,
              "version_minor": 0
            },
            "text/plain": [
              "FloatProgress(value=0.0, bar_style='info', description='Progress:', layout=Layout(height='25px', width='50%'),…"
            ]
          },
          "metadata": {},
          "output_type": "display_data"
        },
        {
          "name": "stdout",
          "output_type": "stream",
          "text": [
            "====================================================================================================\n",
            "Confusion Matrix::\n",
            "\n",
            "\n",
            "+----------------+----+----+\n",
            "|label_prediction|0.0 |1.0 |\n",
            "+----------------+----+----+\n",
            "|1.0             |994 |1452|\n",
            "|0.0             |6913|492 |\n",
            "+----------------+----+----+\n",
            "\n",
            "===================================================================================================="
          ]
        }
      ]
    },
    {
      "cell_type": "code",
      "metadata": {
        "id": "23Bop-Tm7Wd-",
        "outputId": "c9780758-6cfd-44d3-cb4a-6e4949b76f0c",
        "colab": {
          "referenced_widgets": [
            "642becf99f2745f89c0ad38f740740b0",
            ""
          ]
        }
      },
      "source": [
        "evaluatorRF = MulticlassClassificationEvaluator(labelCol=\"Label\", predictionCol=\"prediction\", metricName=\"weightedPrecision\")\n",
        "accuracy = evaluatorRF.evaluate(predLR)\n",
        "\n",
        "evaluator = MulticlassClassificationEvaluator(labelCol='Label', predictionCol='prediction', metricName='f1')  \n",
        "F1_score = evaluator.evaluate(predLR)\n",
        "\n",
        "evaluator = MulticlassClassificationEvaluator(labelCol='Label', predictionCol='prediction', metricName='weightedRecall')  \n",
        "recall = evaluator.evaluate(predLR)\n",
        "\n",
        "print(\"Accuracy = %g\" % accuracy)\n",
        "print(\"Test Error = %g\" % (1.0 - accuracy))\n",
        "print('The F1 Score = %g' % F1_score)\n",
        "print('Recall = %g' % recall)"
      ],
      "execution_count": null,
      "outputs": [
        {
          "data": {
            "application/vnd.jupyter.widget-view+json": {
              "model_id": "642becf99f2745f89c0ad38f740740b0",
              "version_major": 2,
              "version_minor": 0
            },
            "text/plain": [
              "VBox()"
            ]
          },
          "metadata": {},
          "output_type": "display_data"
        },
        {
          "data": {
            "application/vnd.jupyter.widget-view+json": {
              "model_id": "",
              "version_major": 2,
              "version_minor": 0
            },
            "text/plain": [
              "FloatProgress(value=0.0, bar_style='info', description='Progress:', layout=Layout(height='25px', width='50%'),…"
            ]
          },
          "metadata": {},
          "output_type": "display_data"
        },
        {
          "name": "stdout",
          "output_type": "stream",
          "text": [
            "Accuracy = 0.842661\n",
            "Test Error = 0.157339\n",
            "The F1 Score = 0.843\n",
            "Recall = 0.849152"
          ]
        }
      ]
    },
    {
      "cell_type": "code",
      "metadata": {
        "id": "YCdGuZN37Wd-",
        "outputId": "591738f7-7ce8-43cc-e99a-c82d61d3a4da",
        "colab": {
          "referenced_widgets": [
            "7155115d59524321b2979529a21a7bab",
            ""
          ]
        }
      },
      "source": [
        "# print (lr.explainParams())"
      ],
      "execution_count": null,
      "outputs": [
        {
          "data": {
            "application/vnd.jupyter.widget-view+json": {
              "model_id": "7155115d59524321b2979529a21a7bab",
              "version_major": 2,
              "version_minor": 0
            },
            "text/plain": [
              "VBox()"
            ]
          },
          "metadata": {},
          "output_type": "display_data"
        },
        {
          "data": {
            "application/vnd.jupyter.widget-view+json": {
              "model_id": "",
              "version_major": 2,
              "version_minor": 0
            },
            "text/plain": [
              "FloatProgress(value=0.0, bar_style='info', description='Progress:', layout=Layout(height='25px', width='50%'),…"
            ]
          },
          "metadata": {},
          "output_type": "display_data"
        }
      ]
    },
    {
      "cell_type": "code",
      "metadata": {
        "id": "nzTgh6cp7Wd_"
      },
      "source": [
        ""
      ],
      "execution_count": null,
      "outputs": []
    },
    {
      "cell_type": "markdown",
      "metadata": {
        "id": "OTJvxoUx7Wd_"
      },
      "source": [
        "# Model Tuning"
      ]
    },
    {
      "cell_type": "code",
      "metadata": {
        "id": "ZtfNwSlV7Wd_",
        "outputId": "359912bb-7585-4715-8c0a-92afb4001637",
        "colab": {
          "referenced_widgets": [
            "290328ec355b4d968f98fa29387fae04",
            ""
          ]
        }
      },
      "source": [
        "print (RF.explainParams())"
      ],
      "execution_count": null,
      "outputs": [
        {
          "data": {
            "application/vnd.jupyter.widget-view+json": {
              "model_id": "290328ec355b4d968f98fa29387fae04",
              "version_major": 2,
              "version_minor": 0
            },
            "text/plain": [
              "VBox()"
            ]
          },
          "metadata": {},
          "output_type": "display_data"
        },
        {
          "data": {
            "application/vnd.jupyter.widget-view+json": {
              "model_id": "",
              "version_major": 2,
              "version_minor": 0
            },
            "text/plain": [
              "FloatProgress(value=0.0, bar_style='info', description='Progress:', layout=Layout(height='25px', width='50%'),…"
            ]
          },
          "metadata": {},
          "output_type": "display_data"
        },
        {
          "name": "stdout",
          "output_type": "stream",
          "text": [
            "cacheNodeIds: If false, the algorithm will pass trees to executors to match instances with nodes. If true, the algorithm will cache node IDs for each instance. Caching can speed up training of deeper trees. Users can set how often should the cache be checkpointed or disable it by setting checkpointInterval. (default: False)\n",
            "checkpointInterval: set checkpoint interval (>= 1) or disable checkpoint (-1). E.g. 10 means that the cache will get checkpointed every 10 iterations. Note: this setting will be ignored if the checkpoint directory is not set in the SparkContext. (default: 10)\n",
            "featureSubsetStrategy: The number of features to consider for splits at each tree node. Supported options: 'auto' (choose automatically for task: If numTrees == 1, set to 'all'. If numTrees > 1 (forest), set to 'sqrt' for classification and to 'onethird' for regression), 'all' (use all features), 'onethird' (use 1/3 of the features), 'sqrt' (use sqrt(number of features)), 'log2' (use log2(number of features)), 'n' (when n is in the range (0, 1.0], use n * number of features. When n is in the range (1, number of features), use n features). default = 'auto' (default: auto)\n",
            "featuresCol: features column name. (default: features, current: Features)\n",
            "impurity: Criterion used for information gain calculation (case-insensitive). Supported options: entropy, gini (default: gini)\n",
            "labelCol: label column name. (default: label, current: Label)\n",
            "maxBins: Max number of bins for discretizing continuous features.  Must be >=2 and >= number of categories for any categorical feature. (default: 32)\n",
            "maxDepth: Maximum depth of the tree. (>= 0) E.g., depth 0 means 1 leaf node; depth 1 means 1 internal node + 2 leaf nodes. (default: 5)\n",
            "maxMemoryInMB: Maximum memory in MB allocated to histogram aggregation. If too small, then 1 node will be split per iteration, and its aggregates may exceed this size. (default: 256)\n",
            "minInfoGain: Minimum information gain for a split to be considered at a tree node. (default: 0.0)\n",
            "minInstancesPerNode: Minimum number of instances each child must have after split. If a split causes the left or right child to have fewer than minInstancesPerNode, the split will be discarded as invalid. Should be >= 1. (default: 1)\n",
            "numTrees: Number of trees to train (>= 1). (default: 20)\n",
            "predictionCol: prediction column name. (default: prediction)\n",
            "probabilityCol: Column name for predicted class conditional probabilities. Note: Not all models output well-calibrated probability estimates! These probabilities should be treated as confidences, not precise probabilities. (default: probability)\n",
            "rawPredictionCol: raw prediction (a.k.a. confidence) column name. (default: rawPrediction)\n",
            "seed: random seed. (default: -5387697053847413545)\n",
            "subsamplingRate: Fraction of the training data used for learning each decision tree, in range (0, 1]. (default: 1.0)"
          ]
        }
      ]
    },
    {
      "cell_type": "code",
      "metadata": {
        "id": "pGEYqO9H7Wd_",
        "outputId": "6274cf31-d003-422a-f7ad-cf09f2b0ff98",
        "colab": {
          "referenced_widgets": [
            "540f5f7d111042b88df928da567ea813",
            ""
          ]
        }
      },
      "source": [
        "## define parameter grid\n",
        "Grid =( ParamGridBuilder()\n",
        "       .addGrid(RF.maxDepth, [4, 5])\n",
        "       .addGrid(RF.maxBins, [14])\n",
        "       .addGrid(RF.numTrees, [10, 15])\n",
        "       .addGrid(RF.impurity, ['entropy', 'gini'])\n",
        "       .build())\n",
        "\n"
      ],
      "execution_count": null,
      "outputs": [
        {
          "data": {
            "application/vnd.jupyter.widget-view+json": {
              "model_id": "540f5f7d111042b88df928da567ea813",
              "version_major": 2,
              "version_minor": 0
            },
            "text/plain": [
              "VBox()"
            ]
          },
          "metadata": {},
          "output_type": "display_data"
        },
        {
          "data": {
            "application/vnd.jupyter.widget-view+json": {
              "model_id": "",
              "version_major": 2,
              "version_minor": 0
            },
            "text/plain": [
              "FloatProgress(value=0.0, bar_style='info', description='Progress:', layout=Layout(height='25px', width='50%'),…"
            ]
          },
          "metadata": {},
          "output_type": "display_data"
        }
      ]
    },
    {
      "cell_type": "code",
      "metadata": {
        "id": "7MMJYQO_7WeA",
        "outputId": "f0140ffa-41c4-4993-bbda-7df0acbaa021",
        "colab": {
          "referenced_widgets": [
            "6346fb5d8af54911804f158cc7eaebcd",
            ""
          ]
        }
      },
      "source": [
        "evals = MulticlassClassificationEvaluator( labelCol = 'Label', predictionCol = 'prediction', metricName = 'weightedPrecision')\n",
        "crossval = CrossValidator(estimator=RF,\n",
        "                          estimatorParamMaps= Grid,\n",
        "                          evaluator= evals,\n",
        "                          numFolds= 3) "
      ],
      "execution_count": null,
      "outputs": [
        {
          "data": {
            "application/vnd.jupyter.widget-view+json": {
              "model_id": "6346fb5d8af54911804f158cc7eaebcd",
              "version_major": 2,
              "version_minor": 0
            },
            "text/plain": [
              "VBox()"
            ]
          },
          "metadata": {},
          "output_type": "display_data"
        },
        {
          "data": {
            "application/vnd.jupyter.widget-view+json": {
              "model_id": "",
              "version_major": 2,
              "version_minor": 0
            },
            "text/plain": [
              "FloatProgress(value=0.0, bar_style='info', description='Progress:', layout=Layout(height='25px', width='50%'),…"
            ]
          },
          "metadata": {},
          "output_type": "display_data"
        }
      ]
    },
    {
      "cell_type": "code",
      "metadata": {
        "id": "NOmSR0o07WeA",
        "outputId": "d8ce27c4-2a7b-4808-9532-4707ba81cb3f",
        "colab": {
          "referenced_widgets": [
            "9a0a9450868e47d0ae35e616e3f401c2",
            ""
          ]
        }
      },
      "source": [
        "# fit a cross validated model\n",
        "cvModel = crossval.fit(training)"
      ],
      "execution_count": null,
      "outputs": [
        {
          "data": {
            "application/vnd.jupyter.widget-view+json": {
              "model_id": "9a0a9450868e47d0ae35e616e3f401c2",
              "version_major": 2,
              "version_minor": 0
            },
            "text/plain": [
              "VBox()"
            ]
          },
          "metadata": {},
          "output_type": "display_data"
        },
        {
          "data": {
            "application/vnd.jupyter.widget-view+json": {
              "model_id": "",
              "version_major": 2,
              "version_minor": 0
            },
            "text/plain": [
              "FloatProgress(value=0.0, bar_style='info', description='Progress:', layout=Layout(height='25px', width='50%'),…"
            ]
          },
          "metadata": {},
          "output_type": "display_data"
        }
      ]
    },
    {
      "cell_type": "code",
      "metadata": {
        "id": "cpNutCT57WeA",
        "outputId": "4b3df537-5fd5-4812-bb4f-1ae0217b6651",
        "colab": {
          "referenced_widgets": [
            "f7949128d72b4b05b857591a01b266bb",
            ""
          ]
        }
      },
      "source": [
        "bestModel = cvModel.bestModel\n",
        "bestModel"
      ],
      "execution_count": null,
      "outputs": [
        {
          "data": {
            "application/vnd.jupyter.widget-view+json": {
              "model_id": "f7949128d72b4b05b857591a01b266bb",
              "version_major": 2,
              "version_minor": 0
            },
            "text/plain": [
              "VBox()"
            ]
          },
          "metadata": {},
          "output_type": "display_data"
        },
        {
          "data": {
            "application/vnd.jupyter.widget-view+json": {
              "model_id": "",
              "version_major": 2,
              "version_minor": 0
            },
            "text/plain": [
              "FloatProgress(value=0.0, bar_style='info', description='Progress:', layout=Layout(height='25px', width='50%'),…"
            ]
          },
          "metadata": {},
          "output_type": "display_data"
        },
        {
          "name": "stdout",
          "output_type": "stream",
          "text": [
            "RandomForestClassificationModel (uid=RandomForestClassifier_677b3f0d6f9a) with 10 trees"
          ]
        }
      ]
    },
    {
      "cell_type": "code",
      "metadata": {
        "id": "WSYcLA_C7WeA",
        "outputId": "2a639738-81b2-4124-ee58-1869a31ede47",
        "colab": {
          "referenced_widgets": [
            "974064b5a7df4027889b72af029d94a1",
            ""
          ]
        }
      },
      "source": [
        "cvPredictions = cvModel.transform(testing)"
      ],
      "execution_count": null,
      "outputs": [
        {
          "data": {
            "application/vnd.jupyter.widget-view+json": {
              "model_id": "974064b5a7df4027889b72af029d94a1",
              "version_major": 2,
              "version_minor": 0
            },
            "text/plain": [
              "VBox()"
            ]
          },
          "metadata": {},
          "output_type": "display_data"
        },
        {
          "data": {
            "application/vnd.jupyter.widget-view+json": {
              "model_id": "",
              "version_major": 2,
              "version_minor": 0
            },
            "text/plain": [
              "FloatProgress(value=0.0, bar_style='info', description='Progress:', layout=Layout(height='25px', width='50%'),…"
            ]
          },
          "metadata": {},
          "output_type": "display_data"
        }
      ]
    },
    {
      "cell_type": "code",
      "metadata": {
        "id": "BDsaXqvT7WeB",
        "outputId": "e5122f15-1ffe-4ee1-9f60-c1ef2d93673d",
        "colab": {
          "referenced_widgets": [
            "8c87b5949fa74ddea9ef4acf3e431e89",
            ""
          ]
        }
      },
      "source": [
        "predCV = cvPredictions.select(['label', 'prediction'])\n",
        "print ('='*100)\n",
        "print ('Confusion Matrix::')\n",
        "print ('\\n')\n",
        "predCV.crosstab('label', 'prediction').show(truncate = False)\n",
        "print ('='*100)\n",
        "print ('\\n')"
      ],
      "execution_count": null,
      "outputs": [
        {
          "data": {
            "application/vnd.jupyter.widget-view+json": {
              "model_id": "8c87b5949fa74ddea9ef4acf3e431e89",
              "version_major": 2,
              "version_minor": 0
            },
            "text/plain": [
              "VBox()"
            ]
          },
          "metadata": {},
          "output_type": "display_data"
        },
        {
          "data": {
            "application/vnd.jupyter.widget-view+json": {
              "model_id": "",
              "version_major": 2,
              "version_minor": 0
            },
            "text/plain": [
              "FloatProgress(value=0.0, bar_style='info', description='Progress:', layout=Layout(height='25px', width='50%'),…"
            ]
          },
          "metadata": {},
          "output_type": "display_data"
        },
        {
          "name": "stdout",
          "output_type": "stream",
          "text": [
            "====================================================================================================\n",
            "Confusion Matrix::\n",
            "\n",
            "\n",
            "+----------------+----+---+\n",
            "|label_prediction|0.0 |1.0|\n",
            "+----------------+----+---+\n",
            "|1.0             |1628|818|\n",
            "|0.0             |7220|185|\n",
            "+----------------+----+---+\n",
            "\n",
            "===================================================================================================="
          ]
        }
      ]
    },
    {
      "cell_type": "code",
      "metadata": {
        "id": "pi9NKLwW7WeB",
        "outputId": "5d883a4b-9b44-4e6a-a9cb-2f176063b3bd",
        "colab": {
          "referenced_widgets": [
            "bce959eeba044e7aabc4aa419fd8844e",
            ""
          ]
        }
      },
      "source": [
        "\n",
        "evaluatorRF = MulticlassClassificationEvaluator(labelCol=\"Label\", predictionCol=\"prediction\", metricName=\"weightedPrecision\")\n",
        "accuracy = evaluatorRF.evaluate(cvPredictions)\n",
        "\n",
        "evaluator = MulticlassClassificationEvaluator(labelCol='Label', predictionCol='prediction', metricName='f1')  \n",
        "F1_score = evaluator.evaluate(cvPredictions)\n",
        "\n",
        "evaluator = MulticlassClassificationEvaluator(labelCol='Label', predictionCol='prediction', metricName='weightedRecall')  \n",
        "recall = evaluator.evaluate(cvPredictions)\n",
        "\n",
        "print(\"Accuracy = %g\" % accuracy)\n",
        "print(\"Test Error = %g\" % (1.0 - accuracy))\n",
        "print('The F1 Score = %g' % F1_score)\n",
        "print('Recall = %g' % recall)"
      ],
      "execution_count": null,
      "outputs": [
        {
          "data": {
            "application/vnd.jupyter.widget-view+json": {
              "model_id": "bce959eeba044e7aabc4aa419fd8844e",
              "version_major": 2,
              "version_minor": 0
            },
            "text/plain": [
              "VBox()"
            ]
          },
          "metadata": {},
          "output_type": "display_data"
        },
        {
          "data": {
            "application/vnd.jupyter.widget-view+json": {
              "model_id": "",
              "version_major": 2,
              "version_minor": 0
            },
            "text/plain": [
              "FloatProgress(value=0.0, bar_style='info', description='Progress:', layout=Layout(height='25px', width='50%'),…"
            ]
          },
          "metadata": {},
          "output_type": "display_data"
        },
        {
          "name": "stdout",
          "output_type": "stream",
          "text": [
            "Accuracy = 0.815892\n",
            "Test Error = 0.184108\n",
            "The F1 Score = 0.785628\n",
            "Recall = 0.815958"
          ]
        }
      ]
    },
    {
      "cell_type": "code",
      "metadata": {
        "id": "qf3Gmdss7WeB"
      },
      "source": [
        ""
      ],
      "execution_count": null,
      "outputs": []
    },
    {
      "cell_type": "markdown",
      "metadata": {
        "id": "zOi36ITg7WeB"
      },
      "source": [
        "Tune Logistic Regression Model"
      ]
    },
    {
      "cell_type": "code",
      "metadata": {
        "id": "SHUH1Jti7WeC",
        "outputId": "1c6eacd9-5084-4122-e1f9-dd6ffb3d0a22",
        "colab": {
          "referenced_widgets": [
            "3599f7656fb3420e84244f3694604138",
            ""
          ]
        }
      },
      "source": [
        "print(lr.explainParams())"
      ],
      "execution_count": null,
      "outputs": [
        {
          "data": {
            "application/vnd.jupyter.widget-view+json": {
              "model_id": "3599f7656fb3420e84244f3694604138",
              "version_major": 2,
              "version_minor": 0
            },
            "text/plain": [
              "VBox()"
            ]
          },
          "metadata": {},
          "output_type": "display_data"
        },
        {
          "data": {
            "application/vnd.jupyter.widget-view+json": {
              "model_id": "",
              "version_major": 2,
              "version_minor": 0
            },
            "text/plain": [
              "FloatProgress(value=0.0, bar_style='info', description='Progress:', layout=Layout(height='25px', width='50%'),…"
            ]
          },
          "metadata": {},
          "output_type": "display_data"
        },
        {
          "name": "stdout",
          "output_type": "stream",
          "text": [
            "aggregationDepth: suggested depth for treeAggregate (>= 2). (default: 2)\n",
            "elasticNetParam: the ElasticNet mixing parameter, in range [0, 1]. For alpha = 0, the penalty is an L2 penalty. For alpha = 1, it is an L1 penalty. (default: 0.0)\n",
            "family: The name of family which is a description of the label distribution to be used in the model. Supported options: auto, binomial, multinomial (default: auto)\n",
            "featuresCol: features column name. (default: features, current: Features)\n",
            "fitIntercept: whether to fit an intercept term. (default: True)\n",
            "labelCol: label column name. (default: label, current: Label)\n",
            "lowerBoundsOnCoefficients: The lower bounds on coefficients if fitting under bound constrained optimization. The bound matrix must be compatible with the shape (1, number of features) for binomial regression, or (number of classes, number of features) for multinomial regression. (undefined)\n",
            "lowerBoundsOnIntercepts: The lower bounds on intercepts if fitting under bound constrained optimization. The bounds vector size must beequal with 1 for binomial regression, or the number oflasses for multinomial regression. (undefined)\n",
            "maxIter: max number of iterations (>= 0). (default: 100)\n",
            "predictionCol: prediction column name. (default: prediction)\n",
            "probabilityCol: Column name for predicted class conditional probabilities. Note: Not all models output well-calibrated probability estimates! These probabilities should be treated as confidences, not precise probabilities. (default: probability)\n",
            "rawPredictionCol: raw prediction (a.k.a. confidence) column name. (default: rawPrediction)\n",
            "regParam: regularization parameter (>= 0). (default: 0.0)\n",
            "standardization: whether to standardize the training features before fitting the model. (default: True)\n",
            "threshold: Threshold in binary classification prediction, in range [0, 1]. If threshold and thresholds are both set, they must match.e.g. if threshold is p, then thresholds must be equal to [1-p, p]. (default: 0.5)\n",
            "thresholds: Thresholds in multi-class classification to adjust the probability of predicting each class. Array must have length equal to the number of classes, with values > 0, excepting that at most one value may be 0. The class with largest value p/t is predicted, where p is the original probability of that class and t is the class's threshold. (undefined)\n",
            "tol: the convergence tolerance for iterative algorithms (>= 0). (default: 1e-06)\n",
            "upperBoundsOnCoefficients: The upper bounds on coefficients if fitting under bound constrained optimization. The bound matrix must be compatible with the shape (1, number of features) for binomial regression, or (number of classes, number of features) for multinomial regression. (undefined)\n",
            "upperBoundsOnIntercepts: The upper bounds on intercepts if fitting under bound constrained optimization. The bound vector size must be equal with 1 for binomial regression, or the number of classes for multinomial regression. (undefined)\n",
            "weightCol: weight column name. If this is not set or empty, we treat all instance weights as 1.0. (undefined)"
          ]
        }
      ]
    },
    {
      "cell_type": "code",
      "metadata": {
        "id": "S2F7-LE37WeC",
        "outputId": "46503c7f-80a5-4497-82c0-2cab539a5d7a",
        "colab": {
          "referenced_widgets": [
            "2e321814876849339f15320c7f21834c",
            ""
          ]
        }
      },
      "source": [
        "## define parameter grid\n",
        "Grid =( ParamGridBuilder()\n",
        "       .addGrid(lr.elasticNetParam, [0.0, 0.5, 1.0])\n",
        "       .addGrid(lr.regParam, [0.01, 0.5])\n",
        "       .addGrid(lr.maxIter, [10])\n",
        "       .build())\n",
        "\n"
      ],
      "execution_count": null,
      "outputs": [
        {
          "data": {
            "application/vnd.jupyter.widget-view+json": {
              "model_id": "2e321814876849339f15320c7f21834c",
              "version_major": 2,
              "version_minor": 0
            },
            "text/plain": [
              "VBox()"
            ]
          },
          "metadata": {},
          "output_type": "display_data"
        },
        {
          "data": {
            "application/vnd.jupyter.widget-view+json": {
              "model_id": "",
              "version_major": 2,
              "version_minor": 0
            },
            "text/plain": [
              "FloatProgress(value=0.0, bar_style='info', description='Progress:', layout=Layout(height='25px', width='50%'),…"
            ]
          },
          "metadata": {},
          "output_type": "display_data"
        }
      ]
    },
    {
      "cell_type": "code",
      "metadata": {
        "id": "tQQnxvUi7WeC",
        "outputId": "a68ff35c-d7e1-4988-d547-f89bc2d66860",
        "colab": {
          "referenced_widgets": [
            "1f8fd1da6d0a463285bbd076e119edda",
            ""
          ]
        }
      },
      "source": [
        "evals = MulticlassClassificationEvaluator( labelCol = 'Label', predictionCol = 'prediction', metricName = 'weightedPrecision')\n",
        "crossval = CrossValidator(estimator=lr,\n",
        "                          estimatorParamMaps= Grid,\n",
        "                          evaluator= evals,\n",
        "                          numFolds= 3) "
      ],
      "execution_count": null,
      "outputs": [
        {
          "data": {
            "application/vnd.jupyter.widget-view+json": {
              "model_id": "1f8fd1da6d0a463285bbd076e119edda",
              "version_major": 2,
              "version_minor": 0
            },
            "text/plain": [
              "VBox()"
            ]
          },
          "metadata": {},
          "output_type": "display_data"
        },
        {
          "data": {
            "application/vnd.jupyter.widget-view+json": {
              "model_id": "",
              "version_major": 2,
              "version_minor": 0
            },
            "text/plain": [
              "FloatProgress(value=0.0, bar_style='info', description='Progress:', layout=Layout(height='25px', width='50%'),…"
            ]
          },
          "metadata": {},
          "output_type": "display_data"
        }
      ]
    },
    {
      "cell_type": "code",
      "metadata": {
        "id": "4uGtSMQO7WeC",
        "outputId": "f1898065-c833-4b7b-8b3e-53f179cbba1a",
        "colab": {
          "referenced_widgets": [
            "ab8124516b014398bdf8bd06ada538a7",
            ""
          ]
        }
      },
      "source": [
        "# fit a cross validated model\n",
        "cvModel = crossval.fit(training)"
      ],
      "execution_count": null,
      "outputs": [
        {
          "data": {
            "application/vnd.jupyter.widget-view+json": {
              "model_id": "ab8124516b014398bdf8bd06ada538a7",
              "version_major": 2,
              "version_minor": 0
            },
            "text/plain": [
              "VBox()"
            ]
          },
          "metadata": {},
          "output_type": "display_data"
        },
        {
          "data": {
            "application/vnd.jupyter.widget-view+json": {
              "model_id": "",
              "version_major": 2,
              "version_minor": 0
            },
            "text/plain": [
              "FloatProgress(value=0.0, bar_style='info', description='Progress:', layout=Layout(height='25px', width='50%'),…"
            ]
          },
          "metadata": {},
          "output_type": "display_data"
        }
      ]
    },
    {
      "cell_type": "code",
      "metadata": {
        "id": "ClhZnFic7WeD",
        "outputId": "e2d72e03-48f1-49aa-dff4-5dbf10c317e5",
        "colab": {
          "referenced_widgets": [
            "b016c87c89c647b7aa69dcc7a32a3eba",
            ""
          ]
        }
      },
      "source": [
        "bestModel = cvModel.bestModel\n",
        "bestModel"
      ],
      "execution_count": null,
      "outputs": [
        {
          "data": {
            "application/vnd.jupyter.widget-view+json": {
              "model_id": "b016c87c89c647b7aa69dcc7a32a3eba",
              "version_major": 2,
              "version_minor": 0
            },
            "text/plain": [
              "VBox()"
            ]
          },
          "metadata": {},
          "output_type": "display_data"
        },
        {
          "data": {
            "application/vnd.jupyter.widget-view+json": {
              "model_id": "",
              "version_major": 2,
              "version_minor": 0
            },
            "text/plain": [
              "FloatProgress(value=0.0, bar_style='info', description='Progress:', layout=Layout(height='25px', width='50%'),…"
            ]
          },
          "metadata": {},
          "output_type": "display_data"
        },
        {
          "name": "stdout",
          "output_type": "stream",
          "text": [
            "LogisticRegressionModel: uid = LogisticRegression_92855f779520, numClasses = 2, numFeatures = 100"
          ]
        }
      ]
    },
    {
      "cell_type": "code",
      "metadata": {
        "id": "qkp93pWq7WeD",
        "outputId": "c56ebea6-1987-48ee-d8c7-10d693e45a4c",
        "colab": {
          "referenced_widgets": [
            "1f14674fe54746c09e959f47f2f490f0",
            ""
          ]
        }
      },
      "source": [
        "cvPredictions = cvModel.transform(testing)"
      ],
      "execution_count": null,
      "outputs": [
        {
          "data": {
            "application/vnd.jupyter.widget-view+json": {
              "model_id": "1f14674fe54746c09e959f47f2f490f0",
              "version_major": 2,
              "version_minor": 0
            },
            "text/plain": [
              "VBox()"
            ]
          },
          "metadata": {},
          "output_type": "display_data"
        },
        {
          "data": {
            "application/vnd.jupyter.widget-view+json": {
              "model_id": "",
              "version_major": 2,
              "version_minor": 0
            },
            "text/plain": [
              "FloatProgress(value=0.0, bar_style='info', description='Progress:', layout=Layout(height='25px', width='50%'),…"
            ]
          },
          "metadata": {},
          "output_type": "display_data"
        }
      ]
    },
    {
      "cell_type": "code",
      "metadata": {
        "id": "LNpP8GZw7WeD",
        "outputId": "8c04cd83-1b09-4d6d-83dd-f9247b3b3e6a",
        "colab": {
          "referenced_widgets": [
            "613b61ae0aa24cff97f0a0edf1ca5949",
            ""
          ]
        }
      },
      "source": [
        "predCV = cvPredictions.select(['label', 'prediction'])\n",
        "print ('='*100)\n",
        "print ('Confusion Matrix::')\n",
        "print ('\\n')\n",
        "predCV.crosstab('label', 'prediction').show(truncate = False)\n",
        "print ('='*100)\n",
        "print ('\\n')"
      ],
      "execution_count": null,
      "outputs": [
        {
          "data": {
            "application/vnd.jupyter.widget-view+json": {
              "model_id": "613b61ae0aa24cff97f0a0edf1ca5949",
              "version_major": 2,
              "version_minor": 0
            },
            "text/plain": [
              "VBox()"
            ]
          },
          "metadata": {},
          "output_type": "display_data"
        },
        {
          "data": {
            "application/vnd.jupyter.widget-view+json": {
              "model_id": "",
              "version_major": 2,
              "version_minor": 0
            },
            "text/plain": [
              "FloatProgress(value=0.0, bar_style='info', description='Progress:', layout=Layout(height='25px', width='50%'),…"
            ]
          },
          "metadata": {},
          "output_type": "display_data"
        },
        {
          "name": "stdout",
          "output_type": "stream",
          "text": [
            "====================================================================================================\n",
            "Confusion Matrix::\n",
            "\n",
            "\n",
            "+----------------+----+----+\n",
            "|label_prediction|0.0 |1.0 |\n",
            "+----------------+----+----+\n",
            "|1.0             |1077|1369|\n",
            "|0.0             |6953|452 |\n",
            "+----------------+----+----+\n",
            "\n",
            "===================================================================================================="
          ]
        }
      ]
    },
    {
      "cell_type": "code",
      "metadata": {
        "id": "RScWiNiD7WeD",
        "outputId": "4a995ba3-b18c-49cd-8b14-748b75ce1e07",
        "colab": {
          "referenced_widgets": [
            "d9ac4b7cb0914ed49eecdec301947ead",
            ""
          ]
        }
      },
      "source": [
        "\n",
        "evaluatorLR = MulticlassClassificationEvaluator(labelCol=\"Label\", predictionCol=\"prediction\", metricName=\"weightedPrecision\")\n",
        "accuracy = evaluatorLR.evaluate(cvPredictions)\n",
        "\n",
        "evaluator = MulticlassClassificationEvaluator(labelCol='Label', predictionCol='prediction', metricName='f1')  \n",
        "F1_score = evaluator.evaluate(cvPredictions)\n",
        "\n",
        "evaluator = MulticlassClassificationEvaluator(labelCol='Label', predictionCol='prediction', metricName='weightedRecall')  \n",
        "recall = evaluator.evaluate(cvPredictions)\n",
        "\n",
        "print(\"Accuracy = %g\" % accuracy)\n",
        "print(\"Test Error = %g\" % (1.0 - accuracy))\n",
        "print('The F1 Score = %g' % F1_score)\n",
        "print('Recall = %g' % recall)"
      ],
      "execution_count": null,
      "outputs": [
        {
          "data": {
            "application/vnd.jupyter.widget-view+json": {
              "model_id": "d9ac4b7cb0914ed49eecdec301947ead",
              "version_major": 2,
              "version_minor": 0
            },
            "text/plain": [
              "VBox()"
            ]
          },
          "metadata": {},
          "output_type": "display_data"
        },
        {
          "data": {
            "application/vnd.jupyter.widget-view+json": {
              "model_id": "",
              "version_major": 2,
              "version_minor": 0
            },
            "text/plain": [
              "FloatProgress(value=0.0, bar_style='info', description='Progress:', layout=Layout(height='25px', width='50%'),…"
            ]
          },
          "metadata": {},
          "output_type": "display_data"
        },
        {
          "name": "stdout",
          "output_type": "stream",
          "text": [
            "Accuracy = 0.837549\n",
            "Test Error = 0.162451\n",
            "The F1 Score = 0.836563\n",
            "Recall = 0.844787"
          ]
        }
      ]
    },
    {
      "cell_type": "code",
      "metadata": {
        "id": "HvjQqMUe7WeD"
      },
      "source": [
        ""
      ],
      "execution_count": null,
      "outputs": []
    }
  ]
}